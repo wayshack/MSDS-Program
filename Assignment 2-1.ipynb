{
 "cells": [
  {
   "cell_type": "code",
   "execution_count": 1,
   "metadata": {},
   "outputs": [],
   "source": [
    "from IPython.core.interactiveshell import InteractiveShell\n",
    "InteractiveShell.ast_node_interactivity = \"all\""
   ]
  },
  {
   "cell_type": "markdown",
   "metadata": {},
   "source": [
    "## Assignment 2, MSDS 422-58, Fall 2020, Wyatt Shackleford"
   ]
  },
  {
   "cell_type": "markdown",
   "metadata": {},
   "source": [
    "## Loading and Cleaning the Data"
   ]
  },
  {
   "cell_type": "markdown",
   "metadata": {},
   "source": [
    "First, I will load relevant packages for loading, cleaning, and serializing the data."
   ]
  },
  {
   "cell_type": "code",
   "execution_count": 2,
   "metadata": {},
   "outputs": [],
   "source": [
    "import numpy as np # python libary for working with arrays\n",
    "import pandas as pd # data analysis tool\n",
    "import matplotlib # plotting tool\n",
    "import matplotlib.pyplot as plt # plotting tool\n",
    "import seaborn as sns # plotting\n",
    "import os \n",
    "import pickle\n",
    "from pandas_profiling import ProfileReport"
   ]
  },
  {
   "cell_type": "markdown",
   "metadata": {},
   "source": [
    "I will examine the files in the relevant folder for this assignment and load the appropriate data into a Pandas dataframe."
   ]
  },
  {
   "cell_type": "code",
   "execution_count": 3,
   "metadata": {},
   "outputs": [
    {
     "data": {
      "text/plain": [
       "['.ipynb_checkpoints',\n",
       " '2-Assignment-2-Guide-v1.ipynb',\n",
       " 'ames-data-info.zip',\n",
       " 'amesDF.csv',\n",
       " 'amesDF.pickle',\n",
       " 'amesNumDFclean.pickle',\n",
       " 'amesSelDF.pickle',\n",
       " 'data-input-select-ex-assignment-2-v1.ipynb',\n",
       " 'kmeans-assignment-2-ex-v2.ipynb',\n",
       " 'rescaling-PCA-ex-assignment-2-v1.ipynb',\n",
       " 'RF-example-v1.ipynb']"
      ]
     },
     "execution_count": 3,
     "metadata": {},
     "output_type": "execute_result"
    }
   ],
   "source": [
    "os.listdir('Github/repo-MSDS422-Fall-2020/assignment-2')"
   ]
  },
  {
   "cell_type": "code",
   "execution_count": 4,
   "metadata": {},
   "outputs": [],
   "source": [
    "amesDF = pd.read_csv('amesDF.csv')"
   ]
  },
  {
   "cell_type": "markdown",
   "metadata": {},
   "source": [
    "Examining the datatypes and column headers reveals we have a good amount of non-numeric data not relevant to our analysis. I will drop non-numeric data from the frame."
   ]
  },
  {
   "cell_type": "code",
   "execution_count": 5,
   "metadata": {},
   "outputs": [
    {
     "data": {
      "text/plain": [
       "Index(['MS_SubClass', 'MS_Zoning', 'Lot_Frontage', 'Lot_Area', 'Street',\n",
       "       'Alley', 'Lot_Shape', 'Land_Contour', 'Utilities', 'Lot_Config',\n",
       "       'Land_Slope', 'Neighborhood', 'Condition_1', 'Condition_2', 'Bldg_Type',\n",
       "       'House_Style', 'Overall_Cond', 'Year_Built', 'Year_Remod_Add',\n",
       "       'Roof_Style', 'Roof_Matl', 'Exterior_1st', 'Exterior_2nd',\n",
       "       'Mas_Vnr_Type', 'Mas_Vnr_Area', 'Exter_Cond', 'Foundation', 'Bsmt_Cond',\n",
       "       'Bsmt_Exposure', 'BsmtFin_Type_1', 'BsmtFin_SF_1', 'BsmtFin_Type_2',\n",
       "       'BsmtFin_SF_2', 'Bsmt_Unf_SF', 'Total_Bsmt_SF', 'Heating', 'Heating_QC',\n",
       "       'Central_Air', 'Electrical', 'First_Flr_SF', 'Second_Flr_SF',\n",
       "       'Gr_Liv_Area', 'Bsmt_Full_Bath', 'Bsmt_Half_Bath', 'Full_Bath',\n",
       "       'Half_Bath', 'Bedroom_AbvGr', 'Kitchen_AbvGr', 'TotRms_AbvGrd',\n",
       "       'Functional', 'Fireplaces', 'Garage_Type', 'Garage_Finish',\n",
       "       'Garage_Cars', 'Garage_Area', 'Garage_Cond', 'Paved_Drive',\n",
       "       'Wood_Deck_SF', 'Open_Porch_SF', 'Enclosed_Porch', 'Three_season_porch',\n",
       "       'Screen_Porch', 'Pool_Area', 'Pool_QC', 'Fence', 'Misc_Feature',\n",
       "       'Misc_Val', 'Mo_Sold', 'Year_Sold', 'Sale_Type', 'Sale_Condition',\n",
       "       'Sale_Price', 'Longitude', 'Latitude'],\n",
       "      dtype='object')"
      ]
     },
     "execution_count": 5,
     "metadata": {},
     "output_type": "execute_result"
    }
   ],
   "source": [
    "amesDF.columns"
   ]
  },
  {
   "cell_type": "code",
   "execution_count": 6,
   "metadata": {},
   "outputs": [
    {
     "data": {
      "text/plain": [
       "object     40\n",
       "int64      32\n",
       "float64     2\n",
       "dtype: int64"
      ]
     },
     "execution_count": 6,
     "metadata": {},
     "output_type": "execute_result"
    }
   ],
   "source": [
    "amesDF.dtypes.value_counts()"
   ]
  },
  {
   "cell_type": "code",
   "execution_count": 7,
   "metadata": {},
   "outputs": [],
   "source": [
    "amesNumDF = amesDF.select_dtypes(include=np.number).astype('float')"
   ]
  },
  {
   "cell_type": "code",
   "execution_count": 8,
   "metadata": {},
   "outputs": [
    {
     "data": {
      "text/plain": [
       "Index(['Lot_Frontage', 'Lot_Area', 'Year_Built', 'Year_Remod_Add',\n",
       "       'Mas_Vnr_Area', 'BsmtFin_SF_1', 'BsmtFin_SF_2', 'Bsmt_Unf_SF',\n",
       "       'Total_Bsmt_SF', 'First_Flr_SF', 'Second_Flr_SF', 'Gr_Liv_Area',\n",
       "       'Bsmt_Full_Bath', 'Bsmt_Half_Bath', 'Full_Bath', 'Half_Bath',\n",
       "       'Bedroom_AbvGr', 'Kitchen_AbvGr', 'TotRms_AbvGrd', 'Fireplaces',\n",
       "       'Garage_Cars', 'Garage_Area', 'Wood_Deck_SF', 'Open_Porch_SF',\n",
       "       'Enclosed_Porch', 'Three_season_porch', 'Screen_Porch', 'Pool_Area',\n",
       "       'Misc_Val', 'Mo_Sold', 'Year_Sold', 'Sale_Price', 'Longitude',\n",
       "       'Latitude'],\n",
       "      dtype='object')"
      ]
     },
     "execution_count": 8,
     "metadata": {},
     "output_type": "execute_result"
    }
   ],
   "source": [
    "amesNumDF.columns"
   ]
  },
  {
   "cell_type": "markdown",
   "metadata": {},
   "source": [
    "Documentation advises the use of homes under 4000 square feet. I will generate a new dataframe containing only the rows with homes under 4000 square feet."
   ]
  },
  {
   "cell_type": "code",
   "execution_count": 9,
   "metadata": {},
   "outputs": [],
   "source": [
    "amesNumDF2 = amesNumDF[amesNumDF.Gr_Liv_Area < 4000].copy()"
   ]
  },
  {
   "cell_type": "markdown",
   "metadata": {},
   "source": [
    "Before proceeding I will check for issues with year values:"
   ]
  },
  {
   "cell_type": "code",
   "execution_count": 10,
   "metadata": {},
   "outputs": [
    {
     "data": {
      "text/plain": [
       "False    2925\n",
       "dtype: int64"
      ]
     },
     "execution_count": 10,
     "metadata": {},
     "output_type": "execute_result"
    }
   ],
   "source": [
    "((amesNumDF2.Year_Built - amesNumDF2.Year_Sold)>0).value_counts() #sold before built?"
   ]
  },
  {
   "cell_type": "code",
   "execution_count": 11,
   "metadata": {},
   "outputs": [
    {
     "data": {
      "text/plain": [
       "False    2924\n",
       "True        1\n",
       "dtype: int64"
      ]
     },
     "execution_count": 11,
     "metadata": {},
     "output_type": "execute_result"
    }
   ],
   "source": [
    "((amesNumDF2.Year_Built - amesNumDF2.Year_Remod_Add)>0).value_counts() #remodeled before built?"
   ]
  },
  {
   "cell_type": "code",
   "execution_count": 12,
   "metadata": {},
   "outputs": [
    {
     "data": {
      "text/plain": [
       "False    2924\n",
       "True        1\n",
       "dtype: int64"
      ]
     },
     "execution_count": 12,
     "metadata": {},
     "output_type": "execute_result"
    }
   ],
   "source": [
    "((amesNumDF2.Year_Remod_Add - amesNumDF2.Year_Sold)>0).value_counts() #remodeled after sold?"
   ]
  },
  {
   "cell_type": "markdown",
   "metadata": {},
   "source": [
    "I will drop the rows from the frame that are throwing the above issues."
   ]
  },
  {
   "cell_type": "code",
   "execution_count": 13,
   "metadata": {},
   "outputs": [],
   "source": [
    "amesNumDF3 = amesNumDF2.loc[~((amesNumDF2.Year_Built-amesNumDF2.Year_Remod_Add)>0),:].copy()\n",
    "amesNumDF3 = amesNumDF3.loc[~((amesNumDF3.Year_Remod_Add-amesNumDF3.Year_Sold)>0),:].copy()"
   ]
  },
  {
   "cell_type": "markdown",
   "metadata": {},
   "source": [
    "One of our variables, month sold (Mo_Sold) is not continuous data. I will divide it by 12 to turn it into a percentage of a year and add this column to the year sold (Year_Sold) column in order to have time of sale data in one yearly format. Because \"Years\" categories are \"ordinal\". I will convert the three year columns by subtracting them from 2010 to transform them into years before 2010."
   ]
  },
  {
   "cell_type": "code",
   "execution_count": 14,
   "metadata": {},
   "outputs": [],
   "source": [
    "amesNumDF3.loc[:,'Mo_Sold'] = amesNumDF3.loc[:, 'Mo_Sold'].div(12)"
   ]
  },
  {
   "cell_type": "code",
   "execution_count": 15,
   "metadata": {},
   "outputs": [],
   "source": [
    "amesNumDF3['Year_Month'] = 2010 - amesNumDF3['Year_Sold'] + amesNumDF3['Mo_Sold']"
   ]
  },
  {
   "cell_type": "code",
   "execution_count": 16,
   "metadata": {},
   "outputs": [],
   "source": [
    "amesNumDF3['Year_Built'] = 2010 - amesNumDF3['Year_Built']"
   ]
  },
  {
   "cell_type": "code",
   "execution_count": 17,
   "metadata": {},
   "outputs": [],
   "source": [
    "amesNumDF3['Year_Remod_Add'] = 2010 - amesNumDF3['Year_Remod_Add']"
   ]
  },
  {
   "cell_type": "code",
   "execution_count": 18,
   "metadata": {},
   "outputs": [],
   "source": [
    "amesNumDF3 = amesNumDF3.drop('Year_Sold',axis=1)"
   ]
  },
  {
   "cell_type": "code",
   "execution_count": 19,
   "metadata": {},
   "outputs": [],
   "source": [
    "amesNumDF3 = amesNumDF3.drop('Mo_Sold', axis=1)\n"
   ]
  },
  {
   "cell_type": "markdown",
   "metadata": {},
   "source": [
    "I will now generate a profile report to file to examine the interaction of potential features and assist in feature selection, in addition to examining the data for missing values or other potential sources of error."
   ]
  },
  {
   "cell_type": "code",
   "execution_count": 20,
   "metadata": {},
   "outputs": [
    {
     "data": {
      "application/vnd.jupyter.widget-view+json": {
       "model_id": "a93c37e86935403e978b58d90158932b",
       "version_major": 2,
       "version_minor": 0
      },
      "text/plain": [
       "HBox(children=(FloatProgress(value=0.0, description='Summarize dataset', max=48.0, style=ProgressStyle(descrip…"
      ]
     },
     "metadata": {},
     "output_type": "display_data"
    },
    {
     "name": "stdout",
     "output_type": "stream",
     "text": [
      "\n"
     ]
    },
    {
     "data": {
      "application/vnd.jupyter.widget-view+json": {
       "model_id": "8f2763dc8ea14895a32d9af752ab29cb",
       "version_major": 2,
       "version_minor": 0
      },
      "text/plain": [
       "HBox(children=(FloatProgress(value=0.0, description='Generate report structure', max=1.0, style=ProgressStyle(…"
      ]
     },
     "metadata": {},
     "output_type": "display_data"
    },
    {
     "name": "stdout",
     "output_type": "stream",
     "text": [
      "\n"
     ]
    },
    {
     "data": {
      "application/vnd.jupyter.widget-view+json": {
       "model_id": "d0300b28143349d18d1318cb155c9a5e",
       "version_major": 2,
       "version_minor": 0
      },
      "text/plain": [
       "HBox(children=(FloatProgress(value=0.0, description='Render HTML', max=1.0, style=ProgressStyle(description_wi…"
      ]
     },
     "metadata": {},
     "output_type": "display_data"
    },
    {
     "name": "stdout",
     "output_type": "stream",
     "text": [
      "\n"
     ]
    },
    {
     "data": {
      "application/vnd.jupyter.widget-view+json": {
       "model_id": "7c0cbd1690554f9cb9aefb53407c9e63",
       "version_major": 2,
       "version_minor": 0
      },
      "text/plain": [
       "HBox(children=(FloatProgress(value=0.0, description='Export report to file', max=1.0, style=ProgressStyle(desc…"
      ]
     },
     "metadata": {},
     "output_type": "display_data"
    },
    {
     "name": "stdout",
     "output_type": "stream",
     "text": [
      "\n"
     ]
    }
   ],
   "source": [
    "AmesProfile = ProfileReport(amesNumDF3, title='Ames Profile Report')\n",
    "AmesProfile.to_file('profile_report.html')"
   ]
  },
  {
   "cell_type": "markdown",
   "metadata": {},
   "source": [
    "The profile report reveals a few things of note:\n",
    "\n",
    "1) Garage areas and garage cars are highly correlated. This makes sense as the larger the area of the garage, the more cars that can fit. However, using these two highly correlated values may create issues and I will opt to use the garage area as a feature and drop the garage cars variable as the garage area is a more specific feature in regards to available garage space.\n",
    "\n",
    "2) First Floor Square footage is highly correlated with basement Square footage. Again this makes sense from a layout standpoint, however given that basements are not guarenteed and have a potential effect on home value, I will retain both features. \n",
    "\n",
    "3) No home under 4000 square feet has a pool area. I will drop this as a feature.\n",
    "\n",
    "4) Basement half-baths, miscellaneous value, enclosed porch, screen porch, and three season porch are almost all \"zero's\" meaning that very few homes under 4000 sq ft have any of these features. They will be dropped from the data frame.\n",
    "\n",
    "5) Basement sq ft 1 and 2 are portions of basement total sq ft and will be dropped.\n",
    "\n",
    "6) Half baths and full baths can be combined into one variable titled bathrooms.\n",
    "\n",
    "\n",
    "The following code makes these alterations and serializes this dataframe into a .pickle format that can be used in future sessions."
   ]
  },
  {
   "cell_type": "code",
   "execution_count": 21,
   "metadata": {},
   "outputs": [],
   "source": [
    "amesSelDF = pd.DataFrame(amesNumDF3)"
   ]
  },
  {
   "cell_type": "code",
   "execution_count": 22,
   "metadata": {},
   "outputs": [],
   "source": [
    "amesSelDF['Bathrooms'] = amesSelDF['Full_Bath'] + (amesSelDF['Half_Bath']/2)"
   ]
  },
  {
   "cell_type": "code",
   "execution_count": 23,
   "metadata": {},
   "outputs": [],
   "source": [
    "amesSelDF = amesSelDF.drop('Bsmt_Half_Bath', axis=1)\n",
    "amesSelDF = amesSelDF.drop('Bsmt_Full_Bath', axis=1)\n",
    "amesSelDF = amesSelDF.drop('Full_Bath', axis=1)\n",
    "amesSelDF = amesSelDF.drop('Half_Bath', axis=1)\n",
    "amesSelDF = amesSelDF.drop('Enclosed_Porch', axis=1)\n",
    "amesSelDF = amesSelDF.drop('Three_season_porch', axis=1)\n",
    "amesSelDF = amesSelDF.drop('Screen_Porch', axis=1)\n",
    "amesSelDF= amesSelDF.drop('Pool_Area', axis=1)\n",
    "amesSelDF= amesSelDF.drop('Misc_Val', axis=1)\n",
    "amesSelDF = amesSelDF.drop('Garage_Cars', axis=1)\n",
    "amesSelDF = amesSelDF.drop('Longitude', axis=1)\n",
    "amesSelDF = amesSelDF.drop('Latitude', axis=1)\n",
    "amesSelDF = amesSelDF.drop('BsmtFin_SF_1', axis=1)\n",
    "amesSelDF = amesSelDF.drop('BsmtFin_SF_2', axis=1)\n",
    "amesSelDF.to_pickle('amesSel.pickle')"
   ]
  },
  {
   "cell_type": "markdown",
   "metadata": {},
   "source": [
    "## Objective 1: K-Means Clustering"
   ]
  },
  {
   "cell_type": "markdown",
   "metadata": {},
   "source": [
    "First I will load relevant packages for K-Means Clustering, plotting, and evaluating K-Means."
   ]
  },
  {
   "cell_type": "code",
   "execution_count": 24,
   "metadata": {},
   "outputs": [],
   "source": [
    "from sklearn.cluster import KMeans, MiniBatchKMeans\n",
    "%matplotlib inline\n",
    "import scikitplot as skplt\n",
    "from sklearn.metrics import silhouette_score, davies_bouldin_score, calinski_harabasz_score\n",
    "from sklearn.model_selection import GridSearchCV\n",
    "from sklearn.feature_selection import SelectKBest\n",
    "from sklearn.pipeline import Pipeline\n",
    "from sklearn.metrics import make_scorer"
   ]
  },
  {
   "cell_type": "markdown",
   "metadata": {},
   "source": [
    "Taking a look back at the Ames Dataset selected features to see column heads and examine means, std, min, quartiles, and maxes."
   ]
  },
  {
   "cell_type": "code",
   "execution_count": 25,
   "metadata": {},
   "outputs": [
    {
     "data": {
      "text/plain": [
       "Index(['Lot_Frontage', 'Lot_Area', 'Year_Built', 'Year_Remod_Add',\n",
       "       'Mas_Vnr_Area', 'Bsmt_Unf_SF', 'Total_Bsmt_SF', 'First_Flr_SF',\n",
       "       'Second_Flr_SF', 'Gr_Liv_Area', 'Bedroom_AbvGr', 'Kitchen_AbvGr',\n",
       "       'TotRms_AbvGrd', 'Fireplaces', 'Garage_Area', 'Wood_Deck_SF',\n",
       "       'Open_Porch_SF', 'Sale_Price', 'Year_Month', 'Bathrooms'],\n",
       "      dtype='object')"
      ]
     },
     "execution_count": 25,
     "metadata": {},
     "output_type": "execute_result"
    }
   ],
   "source": [
    "amesSelDF.columns"
   ]
  },
  {
   "cell_type": "code",
   "execution_count": 26,
   "metadata": {},
   "outputs": [
    {
     "data": {
      "text/html": [
       "<div>\n",
       "<style scoped>\n",
       "    .dataframe tbody tr th:only-of-type {\n",
       "        vertical-align: middle;\n",
       "    }\n",
       "\n",
       "    .dataframe tbody tr th {\n",
       "        vertical-align: top;\n",
       "    }\n",
       "\n",
       "    .dataframe thead th {\n",
       "        text-align: right;\n",
       "    }\n",
       "</style>\n",
       "<table border=\"1\" class=\"dataframe\">\n",
       "  <thead>\n",
       "    <tr style=\"text-align: right;\">\n",
       "      <th></th>\n",
       "      <th>Lot_Frontage</th>\n",
       "      <th>Lot_Area</th>\n",
       "      <th>Year_Built</th>\n",
       "      <th>Year_Remod_Add</th>\n",
       "      <th>Mas_Vnr_Area</th>\n",
       "      <th>Bsmt_Unf_SF</th>\n",
       "      <th>Total_Bsmt_SF</th>\n",
       "      <th>First_Flr_SF</th>\n",
       "      <th>Second_Flr_SF</th>\n",
       "      <th>Gr_Liv_Area</th>\n",
       "      <th>Bedroom_AbvGr</th>\n",
       "      <th>Kitchen_AbvGr</th>\n",
       "      <th>TotRms_AbvGrd</th>\n",
       "      <th>Fireplaces</th>\n",
       "      <th>Garage_Area</th>\n",
       "      <th>Wood_Deck_SF</th>\n",
       "      <th>Open_Porch_SF</th>\n",
       "      <th>Sale_Price</th>\n",
       "      <th>Year_Month</th>\n",
       "      <th>Bathrooms</th>\n",
       "    </tr>\n",
       "  </thead>\n",
       "  <tbody>\n",
       "    <tr>\n",
       "      <th>count</th>\n",
       "      <td>2923.000000</td>\n",
       "      <td>2923.000000</td>\n",
       "      <td>2923.000000</td>\n",
       "      <td>2923.000000</td>\n",
       "      <td>2923.000000</td>\n",
       "      <td>2923.000000</td>\n",
       "      <td>2923.000000</td>\n",
       "      <td>2923.000000</td>\n",
       "      <td>2923.000000</td>\n",
       "      <td>2923.000000</td>\n",
       "      <td>2923.000000</td>\n",
       "      <td>2923.000000</td>\n",
       "      <td>2923.000000</td>\n",
       "      <td>2923.000000</td>\n",
       "      <td>2923.000000</td>\n",
       "      <td>2923.000000</td>\n",
       "      <td>2923.000000</td>\n",
       "      <td>2923.000000</td>\n",
       "      <td>2923.000000</td>\n",
       "      <td>2923.000000</td>\n",
       "    </tr>\n",
       "    <tr>\n",
       "      <th>mean</th>\n",
       "      <td>57.432090</td>\n",
       "      <td>10101.123503</td>\n",
       "      <td>38.719808</td>\n",
       "      <td>25.779678</td>\n",
       "      <td>99.963736</td>\n",
       "      <td>558.538488</td>\n",
       "      <td>1046.179610</td>\n",
       "      <td>1155.216558</td>\n",
       "      <td>333.866233</td>\n",
       "      <td>1493.770783</td>\n",
       "      <td>2.853575</td>\n",
       "      <td>1.044475</td>\n",
       "      <td>6.434143</td>\n",
       "      <td>0.596989</td>\n",
       "      <td>471.598700</td>\n",
       "      <td>93.406774</td>\n",
       "      <td>47.059528</td>\n",
       "      <td>180376.578857</td>\n",
       "      <td>2.726822</td>\n",
       "      <td>1.753678</td>\n",
       "    </tr>\n",
       "    <tr>\n",
       "      <th>std</th>\n",
       "      <td>33.056313</td>\n",
       "      <td>7783.707985</td>\n",
       "      <td>30.240274</td>\n",
       "      <td>20.861970</td>\n",
       "      <td>175.615503</td>\n",
       "      <td>439.352262</td>\n",
       "      <td>421.449895</td>\n",
       "      <td>376.600344</td>\n",
       "      <td>425.920517</td>\n",
       "      <td>486.286774</td>\n",
       "      <td>0.828011</td>\n",
       "      <td>0.214321</td>\n",
       "      <td>1.558364</td>\n",
       "      <td>0.645432</td>\n",
       "      <td>213.969258</td>\n",
       "      <td>126.061952</td>\n",
       "      <td>66.329353</td>\n",
       "      <td>78566.782806</td>\n",
       "      <td>1.371004</td>\n",
       "      <td>0.640747</td>\n",
       "    </tr>\n",
       "    <tr>\n",
       "      <th>min</th>\n",
       "      <td>0.000000</td>\n",
       "      <td>1300.000000</td>\n",
       "      <td>0.000000</td>\n",
       "      <td>0.000000</td>\n",
       "      <td>0.000000</td>\n",
       "      <td>0.000000</td>\n",
       "      <td>0.000000</td>\n",
       "      <td>334.000000</td>\n",
       "      <td>0.000000</td>\n",
       "      <td>334.000000</td>\n",
       "      <td>0.000000</td>\n",
       "      <td>0.000000</td>\n",
       "      <td>2.000000</td>\n",
       "      <td>0.000000</td>\n",
       "      <td>0.000000</td>\n",
       "      <td>0.000000</td>\n",
       "      <td>0.000000</td>\n",
       "      <td>12789.000000</td>\n",
       "      <td>0.083333</td>\n",
       "      <td>0.000000</td>\n",
       "    </tr>\n",
       "    <tr>\n",
       "      <th>25%</th>\n",
       "      <td>43.000000</td>\n",
       "      <td>7437.000000</td>\n",
       "      <td>10.000000</td>\n",
       "      <td>6.000000</td>\n",
       "      <td>0.000000</td>\n",
       "      <td>218.500000</td>\n",
       "      <td>792.000000</td>\n",
       "      <td>876.000000</td>\n",
       "      <td>0.000000</td>\n",
       "      <td>1125.500000</td>\n",
       "      <td>2.000000</td>\n",
       "      <td>1.000000</td>\n",
       "      <td>5.000000</td>\n",
       "      <td>0.000000</td>\n",
       "      <td>320.000000</td>\n",
       "      <td>0.000000</td>\n",
       "      <td>0.000000</td>\n",
       "      <td>129450.000000</td>\n",
       "      <td>1.583333</td>\n",
       "      <td>1.000000</td>\n",
       "    </tr>\n",
       "    <tr>\n",
       "      <th>50%</th>\n",
       "      <td>63.000000</td>\n",
       "      <td>9416.000000</td>\n",
       "      <td>37.000000</td>\n",
       "      <td>17.000000</td>\n",
       "      <td>0.000000</td>\n",
       "      <td>464.000000</td>\n",
       "      <td>988.000000</td>\n",
       "      <td>1082.000000</td>\n",
       "      <td>0.000000</td>\n",
       "      <td>1441.000000</td>\n",
       "      <td>3.000000</td>\n",
       "      <td>1.000000</td>\n",
       "      <td>6.000000</td>\n",
       "      <td>1.000000</td>\n",
       "      <td>480.000000</td>\n",
       "      <td>0.000000</td>\n",
       "      <td>26.000000</td>\n",
       "      <td>160000.000000</td>\n",
       "      <td>2.666667</td>\n",
       "      <td>2.000000</td>\n",
       "    </tr>\n",
       "    <tr>\n",
       "      <th>75%</th>\n",
       "      <td>78.000000</td>\n",
       "      <td>11513.500000</td>\n",
       "      <td>56.000000</td>\n",
       "      <td>45.000000</td>\n",
       "      <td>162.000000</td>\n",
       "      <td>801.000000</td>\n",
       "      <td>1298.000000</td>\n",
       "      <td>1382.500000</td>\n",
       "      <td>702.500000</td>\n",
       "      <td>1740.000000</td>\n",
       "      <td>3.000000</td>\n",
       "      <td>1.000000</td>\n",
       "      <td>7.000000</td>\n",
       "      <td>1.000000</td>\n",
       "      <td>576.000000</td>\n",
       "      <td>168.000000</td>\n",
       "      <td>70.000000</td>\n",
       "      <td>213495.000000</td>\n",
       "      <td>3.833333</td>\n",
       "      <td>2.250000</td>\n",
       "    </tr>\n",
       "    <tr>\n",
       "      <th>max</th>\n",
       "      <td>313.000000</td>\n",
       "      <td>215245.000000</td>\n",
       "      <td>138.000000</td>\n",
       "      <td>60.000000</td>\n",
       "      <td>1600.000000</td>\n",
       "      <td>2336.000000</td>\n",
       "      <td>3206.000000</td>\n",
       "      <td>3820.000000</td>\n",
       "      <td>1862.000000</td>\n",
       "      <td>3820.000000</td>\n",
       "      <td>8.000000</td>\n",
       "      <td>3.000000</td>\n",
       "      <td>14.000000</td>\n",
       "      <td>4.000000</td>\n",
       "      <td>1488.000000</td>\n",
       "      <td>1424.000000</td>\n",
       "      <td>742.000000</td>\n",
       "      <td>625000.000000</td>\n",
       "      <td>5.000000</td>\n",
       "      <td>5.000000</td>\n",
       "    </tr>\n",
       "  </tbody>\n",
       "</table>\n",
       "</div>"
      ],
      "text/plain": [
       "       Lot_Frontage       Lot_Area   Year_Built  Year_Remod_Add  Mas_Vnr_Area  \\\n",
       "count   2923.000000    2923.000000  2923.000000     2923.000000   2923.000000   \n",
       "mean      57.432090   10101.123503    38.719808       25.779678     99.963736   \n",
       "std       33.056313    7783.707985    30.240274       20.861970    175.615503   \n",
       "min        0.000000    1300.000000     0.000000        0.000000      0.000000   \n",
       "25%       43.000000    7437.000000    10.000000        6.000000      0.000000   \n",
       "50%       63.000000    9416.000000    37.000000       17.000000      0.000000   \n",
       "75%       78.000000   11513.500000    56.000000       45.000000    162.000000   \n",
       "max      313.000000  215245.000000   138.000000       60.000000   1600.000000   \n",
       "\n",
       "       Bsmt_Unf_SF  Total_Bsmt_SF  First_Flr_SF  Second_Flr_SF  Gr_Liv_Area  \\\n",
       "count  2923.000000    2923.000000   2923.000000    2923.000000  2923.000000   \n",
       "mean    558.538488    1046.179610   1155.216558     333.866233  1493.770783   \n",
       "std     439.352262     421.449895    376.600344     425.920517   486.286774   \n",
       "min       0.000000       0.000000    334.000000       0.000000   334.000000   \n",
       "25%     218.500000     792.000000    876.000000       0.000000  1125.500000   \n",
       "50%     464.000000     988.000000   1082.000000       0.000000  1441.000000   \n",
       "75%     801.000000    1298.000000   1382.500000     702.500000  1740.000000   \n",
       "max    2336.000000    3206.000000   3820.000000    1862.000000  3820.000000   \n",
       "\n",
       "       Bedroom_AbvGr  Kitchen_AbvGr  TotRms_AbvGrd   Fireplaces  Garage_Area  \\\n",
       "count    2923.000000    2923.000000    2923.000000  2923.000000  2923.000000   \n",
       "mean        2.853575       1.044475       6.434143     0.596989   471.598700   \n",
       "std         0.828011       0.214321       1.558364     0.645432   213.969258   \n",
       "min         0.000000       0.000000       2.000000     0.000000     0.000000   \n",
       "25%         2.000000       1.000000       5.000000     0.000000   320.000000   \n",
       "50%         3.000000       1.000000       6.000000     1.000000   480.000000   \n",
       "75%         3.000000       1.000000       7.000000     1.000000   576.000000   \n",
       "max         8.000000       3.000000      14.000000     4.000000  1488.000000   \n",
       "\n",
       "       Wood_Deck_SF  Open_Porch_SF     Sale_Price   Year_Month    Bathrooms  \n",
       "count   2923.000000    2923.000000    2923.000000  2923.000000  2923.000000  \n",
       "mean      93.406774      47.059528  180376.578857     2.726822     1.753678  \n",
       "std      126.061952      66.329353   78566.782806     1.371004     0.640747  \n",
       "min        0.000000       0.000000   12789.000000     0.083333     0.000000  \n",
       "25%        0.000000       0.000000  129450.000000     1.583333     1.000000  \n",
       "50%        0.000000      26.000000  160000.000000     2.666667     2.000000  \n",
       "75%      168.000000      70.000000  213495.000000     3.833333     2.250000  \n",
       "max     1424.000000     742.000000  625000.000000     5.000000     5.000000  "
      ]
     },
     "execution_count": 26,
     "metadata": {},
     "output_type": "execute_result"
    }
   ],
   "source": [
    "amesSelDF.describe()"
   ]
  },
  {
   "cell_type": "markdown",
   "metadata": {},
   "source": [
    "We have to separate Sale_Price from the features we will use here, I will do this now as well as dropping Year_Month Sold, Year_Built, and Year_Remod_Add from the frame."
   ]
  },
  {
   "cell_type": "code",
   "execution_count": 27,
   "metadata": {},
   "outputs": [
    {
     "data": {
      "text/plain": [
       "Lot_Frontage     float32\n",
       "Lot_Area         float32\n",
       "Mas_Vnr_Area     float32\n",
       "Bsmt_Unf_SF      float32\n",
       "Total_Bsmt_SF    float32\n",
       "First_Flr_SF     float32\n",
       "Second_Flr_SF    float32\n",
       "Gr_Liv_Area      float32\n",
       "Bedroom_AbvGr    float32\n",
       "Kitchen_AbvGr    float32\n",
       "TotRms_AbvGrd    float32\n",
       "Fireplaces       float32\n",
       "Garage_Area      float32\n",
       "Wood_Deck_SF     float32\n",
       "Open_Porch_SF    float32\n",
       "Bathrooms        float32\n",
       "dtype: object"
      ]
     },
     "execution_count": 27,
     "metadata": {},
     "output_type": "execute_result"
    }
   ],
   "source": [
    "amesClusDF = amesSelDF.loc[:, ~(amesSelDF.columns.isin(['Sale_Price']))].astype('float32')\n",
    "amesClusDF = amesClusDF.drop('Year_Month', axis=1)\n",
    "amesClusDF = amesClusDF.drop('Year_Built', axis=1)\n",
    "amesClusDF = amesClusDF.drop('Year_Remod_Add', axis=1)\n",
    "amesClusDF.dtypes\n",
    "X = amesClusDF.to_numpy(copy=True)"
   ]
  },
  {
   "cell_type": "code",
   "execution_count": 28,
   "metadata": {
    "scrolled": true
   },
   "outputs": [
    {
     "data": {
      "image/png": "[encoded data removed]",
      "text/plain": [
       "<Figure size 504x504 with 2 Axes>"
      ]
     },
     "metadata": {
      "needs_background": "light"
     },
     "output_type": "display_data"
    }
   ],
   "source": [
    "kmMB = MiniBatchKMeans(random_state=88)\n",
    "skplt.cluster.plot_elbow_curve(kmMB, X, n_jobs=-1, cluster_ranges=range(1,14),\n",
    "                               figsize=(7,7))\n",
    "plt.show();"
   ]
  },
  {
   "cell_type": "markdown",
   "metadata": {},
   "source": [
    "The elbow plot suggests that 3 clusters may be most appropriate number of clusters as the \"elbow\" takes place at 3 clusters. \n",
    "\n",
    "* I would have liked to do a gridsearch here, but could not figure out how to get the Davies Bouldin Score to work as a scoring criterion. See the below raw code. I tried creating a custom scorer as well, however it continuously asked for yTrue which we obviously do not have."
   ]
  },
  {
   "cell_type": "raw",
   "metadata": {},
   "source": [
    "parms = {\"n_clusters\": [2,3,4,5,6,7,8,9,10,11,12]}\n",
    "\n",
    "kmeans = KMeans()\n",
    "\n",
    "kmeansCV = GridSearchCV(kmeans, n_jobs=-1,verbose=0,\n",
    "                    refit=True,\n",
    "                    cv = 10,\n",
    "                    scoring=davies_bouldin_score(X,label),\n",
    "                    return_train_score=True,\n",
    "                    param_grid=parms\n",
    "                     )\n",
    "\n",
    "kmeansCV.fit(X,label) # produces an error saying Davies Bouldin is not valid scoring criterion"
   ]
  },
  {
   "cell_type": "markdown",
   "metadata": {},
   "source": [
    "I will now perform the K-Means analysis, predicting cluster membership by the above features stored in object X. Given that the above elbow plot demonstrates that 2 to 4 options is most appropriate, I will omit other options from the document.\n",
    "\n",
    "* Note I did run each potential cluster between 2-12, however for the sake of space and given the elbow plot above and the dramatic rise in variance as cluster number goes up, it seems like this would be repetitive."
   ]
  },
  {
   "cell_type": "code",
   "execution_count": 29,
   "metadata": {},
   "outputs": [
    {
     "data": {
      "text/plain": [
       "0    2919\n",
       "1       4\n",
       "dtype: int64"
      ]
     },
     "execution_count": 29,
     "metadata": {},
     "output_type": "execute_result"
    },
    {
     "data": {
      "text/plain": [
       "0    2820\n",
       "1      99\n",
       "2       4\n",
       "dtype: int64"
      ]
     },
     "execution_count": 29,
     "metadata": {},
     "output_type": "execute_result"
    },
    {
     "data": {
      "text/plain": [
       "2    1832\n",
       "0    1055\n",
       "3      32\n",
       "1       4\n",
       "dtype: int64"
      ]
     },
     "execution_count": 29,
     "metadata": {},
     "output_type": "execute_result"
    },
    {
     "name": "stdout",
     "output_type": "stream",
     "text": [
      "  Number of Clusters  Calinski Harabasz  Davies Bouldin  Silhouette\n",
      "0                  2        3210.901192        0.194739    0.965724\n",
      "1                  3        3666.211631        0.494158    0.760428\n",
      "2                  4        4794.093274        0.576367    0.447347\n"
     ]
    }
   ],
   "source": [
    "kmeans = KMeans(n_clusters=2, random_state=33).fit(X)\n",
    "label = kmeans.predict(X)\n",
    "pd.Series(label).value_counts()\n",
    "CH2 = calinski_harabasz_score(X,label)\n",
    "DB2 = davies_bouldin_score(X,label)\n",
    "S2 = silhouette_score(X, label)\n",
    "kmeans = KMeans(n_clusters=3, random_state=33).fit(X)\n",
    "label = kmeans.predict(X)\n",
    "pd.Series(label).value_counts()\n",
    "CH3 = calinski_harabasz_score(X,label)\n",
    "DB3 = davies_bouldin_score(X,label)\n",
    "S3 = silhouette_score(X, label)\n",
    "kmeans = KMeans(n_clusters=4, random_state=33).fit(X)\n",
    "label = kmeans.predict(X)\n",
    "pd.Series(label).value_counts()\n",
    "CH4 = calinski_harabasz_score(X,label)\n",
    "DB4 = davies_bouldin_score(X,label)\n",
    "S4 = silhouette_score(X, label)\n",
    "\n",
    "\n",
    "ModelSummaryData = {'Number of Clusters':pd.Series(['2', '3', '4']),\n",
    "    'Calinski Harabasz':pd.Series([CH2, CH3, CH4]),\n",
    "    'Davies Bouldin': pd.Series([DB2,DB3,DB4]),\n",
    "    'Silhouette': pd.Series([S2,S3,S4])}\n",
    "Summary_df = pd.DataFrame(ModelSummaryData)\n",
    "print(Summary_df)"
   ]
  },
  {
   "cell_type": "markdown",
   "metadata": {},
   "source": [
    "This summary table reveals that clusters 2 or 3 produce robust silhouette scores (larger than .71 according to Izenman, p.423). This indicates that clusters=2 or 3 are well clustered and good choices. As both of these options present as robust, I will examine these by the other two metrics, Davies Bouldin and Calinski Harabasz scores. Davies Bouldin scores are better when smaller as they are representations of similarity between clusters, or intra-cluster similarity, two clusters dramatically reduces the Davies Bouldin Score compared to 3 clusters, seeming to indicate that when two clusters are used their intra-cluster similarity dramatically decreases. However, with 2 clusters there are only 4 points in one of the clusters. This seems unrealistic and maybe why we are seeing such a dramatically low Davies Bouldin score. Looking at Calinski Harabasz score, a ratio between inter and intra cluster dispersion, three clusters presents as a better option than 2 indicating that it has higher inter-cluster variance and/or lower intra-cluster variance. While four clusters increases the Calinski-Harabasz score and only slightly increases the Davies Bouldin Score, the fact that its Silhouette score presents as weak and or artificial, solidifies in my mind the idea that the elbow plot was correct and three clusters is most appropriate for this model. See the below silhouette plot with three clusters:"
   ]
  },
  {
   "cell_type": "code",
   "execution_count": 30,
   "metadata": {},
   "outputs": [
    {
     "data": {
      "image/png": "[encoded data removed]",
      "text/plain": [
       "<Figure size 432x288 with 1 Axes>"
      ]
     },
     "metadata": {
      "needs_background": "light"
     },
     "output_type": "display_data"
    }
   ],
   "source": [
    "kmeans = KMeans(n_clusters=3, random_state=33).fit(X)\n",
    "label = kmeans.predict(X)\n",
    "pd.Series(label).value_counts()\n",
    "skplt.metrics.plot_silhouette(X, label)\n",
    "plt.show();"
   ]
  },
  {
   "cell_type": "markdown",
   "metadata": {},
   "source": [
    "## Objective 2: Rescaling Feature Data"
   ]
  },
  {
   "cell_type": "markdown",
   "metadata": {},
   "source": [
    "First I will load the appropriate package to create a train/test split, transform the data using standardization, and partition the data into an 85%/15% split"
   ]
  },
  {
   "cell_type": "code",
   "execution_count": 31,
   "metadata": {},
   "outputs": [
    {
     "data": {
      "text/plain": [
       "(2923, 19)"
      ]
     },
     "execution_count": 31,
     "metadata": {},
     "output_type": "execute_result"
    },
    {
     "data": {
      "text/plain": [
       "(2923,)"
      ]
     },
     "execution_count": 31,
     "metadata": {},
     "output_type": "execute_result"
    }
   ],
   "source": [
    "from sklearn.model_selection import train_test_split\n",
    "X= amesSelDF.loc[:, ~(amesSelDF.columns.isin(['Sale_Price']))].to_numpy(copy=True)\n",
    "y= amesSelDF.Sale_Price.to_numpy(copy=True)\n",
    "X.shape\n",
    "y.shape"
   ]
  },
  {
   "cell_type": "code",
   "execution_count": 32,
   "metadata": {},
   "outputs": [],
   "source": [
    "trainX,testX,trainY,testY = train_test_split(X,y,test_size=.15, random_state=33)"
   ]
  },
  {
   "cell_type": "markdown",
   "metadata": {},
   "source": [
    "Now I will load a Standardization Scaler, entitle it scaler and fit it to my training X data before transforming the training and testing data using this scaler."
   ]
  },
  {
   "cell_type": "code",
   "execution_count": 33,
   "metadata": {},
   "outputs": [
    {
     "data": {
      "text/plain": [
       "MinMaxScaler()"
      ]
     },
     "execution_count": 33,
     "metadata": {},
     "output_type": "execute_result"
    }
   ],
   "source": [
    "from sklearn.preprocessing import MinMaxScaler\n",
    "scaler=MinMaxScaler()\n",
    "scaler.fit(trainX)\n",
    "trainXS=scaler.transform(trainX)\n",
    "testXS=scaler.transform(testX)"
   ]
  },
  {
   "cell_type": "markdown",
   "metadata": {},
   "source": [
    "Taking a look at the scaled data:"
   ]
  },
  {
   "cell_type": "code",
   "execution_count": 34,
   "metadata": {},
   "outputs": [
    {
     "data": {
      "text/html": [
       "<div>\n",
       "<style scoped>\n",
       "    .dataframe tbody tr th:only-of-type {\n",
       "        vertical-align: middle;\n",
       "    }\n",
       "\n",
       "    .dataframe tbody tr th {\n",
       "        vertical-align: top;\n",
       "    }\n",
       "\n",
       "    .dataframe thead th {\n",
       "        text-align: right;\n",
       "    }\n",
       "</style>\n",
       "<table border=\"1\" class=\"dataframe\">\n",
       "  <thead>\n",
       "    <tr style=\"text-align: right;\">\n",
       "      <th></th>\n",
       "      <th>0</th>\n",
       "      <th>1</th>\n",
       "      <th>2</th>\n",
       "      <th>3</th>\n",
       "      <th>4</th>\n",
       "      <th>5</th>\n",
       "      <th>6</th>\n",
       "      <th>7</th>\n",
       "      <th>8</th>\n",
       "      <th>9</th>\n",
       "      <th>10</th>\n",
       "      <th>11</th>\n",
       "      <th>12</th>\n",
       "      <th>13</th>\n",
       "      <th>14</th>\n",
       "      <th>15</th>\n",
       "      <th>16</th>\n",
       "      <th>17</th>\n",
       "      <th>18</th>\n",
       "    </tr>\n",
       "  </thead>\n",
       "  <tbody>\n",
       "    <tr>\n",
       "      <th>count</th>\n",
       "      <td>2484.000000</td>\n",
       "      <td>2484.000000</td>\n",
       "      <td>2484.000000</td>\n",
       "      <td>2484.000000</td>\n",
       "      <td>2484.000000</td>\n",
       "      <td>2484.000000</td>\n",
       "      <td>2484.000000</td>\n",
       "      <td>2484.000000</td>\n",
       "      <td>2484.000000</td>\n",
       "      <td>2484.000000</td>\n",
       "      <td>2484.000000</td>\n",
       "      <td>2484.000000</td>\n",
       "      <td>2484.000000</td>\n",
       "      <td>2484.000000</td>\n",
       "      <td>2484.000000</td>\n",
       "      <td>2484.000000</td>\n",
       "      <td>2484.000000</td>\n",
       "      <td>2484.000000</td>\n",
       "      <td>2484.000000</td>\n",
       "    </tr>\n",
       "    <tr>\n",
       "      <th>mean</th>\n",
       "      <td>0.286361</td>\n",
       "      <td>0.041465</td>\n",
       "      <td>0.281398</td>\n",
       "      <td>0.429804</td>\n",
       "      <td>0.071654</td>\n",
       "      <td>0.238037</td>\n",
       "      <td>0.326320</td>\n",
       "      <td>0.236710</td>\n",
       "      <td>0.176037</td>\n",
       "      <td>0.332168</td>\n",
       "      <td>0.355878</td>\n",
       "      <td>0.349973</td>\n",
       "      <td>0.368223</td>\n",
       "      <td>0.148551</td>\n",
       "      <td>0.316713</td>\n",
       "      <td>0.066032</td>\n",
       "      <td>0.063424</td>\n",
       "      <td>0.535365</td>\n",
       "      <td>0.350765</td>\n",
       "    </tr>\n",
       "    <tr>\n",
       "      <th>std</th>\n",
       "      <td>0.162620</td>\n",
       "      <td>0.038645</td>\n",
       "      <td>0.219956</td>\n",
       "      <td>0.346490</td>\n",
       "      <td>0.127682</td>\n",
       "      <td>0.190401</td>\n",
       "      <td>0.134415</td>\n",
       "      <td>0.109481</td>\n",
       "      <td>0.227689</td>\n",
       "      <td>0.140041</td>\n",
       "      <td>0.104636</td>\n",
       "      <td>0.074433</td>\n",
       "      <td>0.129287</td>\n",
       "      <td>0.162181</td>\n",
       "      <td>0.143732</td>\n",
       "      <td>0.088644</td>\n",
       "      <td>0.089243</td>\n",
       "      <td>0.278160</td>\n",
       "      <td>0.128419</td>\n",
       "    </tr>\n",
       "    <tr>\n",
       "      <th>min</th>\n",
       "      <td>0.000000</td>\n",
       "      <td>0.000000</td>\n",
       "      <td>0.000000</td>\n",
       "      <td>0.000000</td>\n",
       "      <td>0.000000</td>\n",
       "      <td>0.000000</td>\n",
       "      <td>0.000000</td>\n",
       "      <td>0.000000</td>\n",
       "      <td>0.000000</td>\n",
       "      <td>0.000000</td>\n",
       "      <td>0.000000</td>\n",
       "      <td>0.000000</td>\n",
       "      <td>0.000000</td>\n",
       "      <td>0.000000</td>\n",
       "      <td>0.000000</td>\n",
       "      <td>0.000000</td>\n",
       "      <td>0.000000</td>\n",
       "      <td>0.000000</td>\n",
       "      <td>0.000000</td>\n",
       "    </tr>\n",
       "    <tr>\n",
       "      <th>25%</th>\n",
       "      <td>0.215000</td>\n",
       "      <td>0.028538</td>\n",
       "      <td>0.072464</td>\n",
       "      <td>0.100000</td>\n",
       "      <td>0.000000</td>\n",
       "      <td>0.089897</td>\n",
       "      <td>0.243918</td>\n",
       "      <td>0.154905</td>\n",
       "      <td>0.000000</td>\n",
       "      <td>0.226621</td>\n",
       "      <td>0.250000</td>\n",
       "      <td>0.333333</td>\n",
       "      <td>0.250000</td>\n",
       "      <td>0.000000</td>\n",
       "      <td>0.216398</td>\n",
       "      <td>0.000000</td>\n",
       "      <td>0.000000</td>\n",
       "      <td>0.305085</td>\n",
       "      <td>0.200000</td>\n",
       "    </tr>\n",
       "    <tr>\n",
       "      <th>50%</th>\n",
       "      <td>0.310000</td>\n",
       "      <td>0.037996</td>\n",
       "      <td>0.260870</td>\n",
       "      <td>0.283333</td>\n",
       "      <td>0.000000</td>\n",
       "      <td>0.196704</td>\n",
       "      <td>0.308796</td>\n",
       "      <td>0.216294</td>\n",
       "      <td>0.000000</td>\n",
       "      <td>0.318560</td>\n",
       "      <td>0.375000</td>\n",
       "      <td>0.333333</td>\n",
       "      <td>0.333333</td>\n",
       "      <td>0.250000</td>\n",
       "      <td>0.322581</td>\n",
       "      <td>0.000000</td>\n",
       "      <td>0.036388</td>\n",
       "      <td>0.525424</td>\n",
       "      <td>0.400000</td>\n",
       "    </tr>\n",
       "    <tr>\n",
       "      <th>75%</th>\n",
       "      <td>0.390000</td>\n",
       "      <td>0.047676</td>\n",
       "      <td>0.413043</td>\n",
       "      <td>0.750000</td>\n",
       "      <td>0.109035</td>\n",
       "      <td>0.340860</td>\n",
       "      <td>0.408609</td>\n",
       "      <td>0.304719</td>\n",
       "      <td>0.374463</td>\n",
       "      <td>0.400244</td>\n",
       "      <td>0.375000</td>\n",
       "      <td>0.333333</td>\n",
       "      <td>0.416667</td>\n",
       "      <td>0.250000</td>\n",
       "      <td>0.387097</td>\n",
       "      <td>0.117978</td>\n",
       "      <td>0.094340</td>\n",
       "      <td>0.745763</td>\n",
       "      <td>0.400000</td>\n",
       "    </tr>\n",
       "    <tr>\n",
       "      <th>max</th>\n",
       "      <td>1.000000</td>\n",
       "      <td>1.000000</td>\n",
       "      <td>1.000000</td>\n",
       "      <td>1.000000</td>\n",
       "      <td>1.000000</td>\n",
       "      <td>1.000000</td>\n",
       "      <td>1.000000</td>\n",
       "      <td>1.000000</td>\n",
       "      <td>1.000000</td>\n",
       "      <td>1.000000</td>\n",
       "      <td>1.000000</td>\n",
       "      <td>1.000000</td>\n",
       "      <td>1.000000</td>\n",
       "      <td>1.000000</td>\n",
       "      <td>1.000000</td>\n",
       "      <td>1.000000</td>\n",
       "      <td>1.000000</td>\n",
       "      <td>1.000000</td>\n",
       "      <td>1.000000</td>\n",
       "    </tr>\n",
       "  </tbody>\n",
       "</table>\n",
       "</div>"
      ],
      "text/plain": [
       "                0            1            2            3            4   \\\n",
       "count  2484.000000  2484.000000  2484.000000  2484.000000  2484.000000   \n",
       "mean      0.286361     0.041465     0.281398     0.429804     0.071654   \n",
       "std       0.162620     0.038645     0.219956     0.346490     0.127682   \n",
       "min       0.000000     0.000000     0.000000     0.000000     0.000000   \n",
       "25%       0.215000     0.028538     0.072464     0.100000     0.000000   \n",
       "50%       0.310000     0.037996     0.260870     0.283333     0.000000   \n",
       "75%       0.390000     0.047676     0.413043     0.750000     0.109035   \n",
       "max       1.000000     1.000000     1.000000     1.000000     1.000000   \n",
       "\n",
       "                5            6            7            8            9   \\\n",
       "count  2484.000000  2484.000000  2484.000000  2484.000000  2484.000000   \n",
       "mean      0.238037     0.326320     0.236710     0.176037     0.332168   \n",
       "std       0.190401     0.134415     0.109481     0.227689     0.140041   \n",
       "min       0.000000     0.000000     0.000000     0.000000     0.000000   \n",
       "25%       0.089897     0.243918     0.154905     0.000000     0.226621   \n",
       "50%       0.196704     0.308796     0.216294     0.000000     0.318560   \n",
       "75%       0.340860     0.408609     0.304719     0.374463     0.400244   \n",
       "max       1.000000     1.000000     1.000000     1.000000     1.000000   \n",
       "\n",
       "                10           11           12           13           14  \\\n",
       "count  2484.000000  2484.000000  2484.000000  2484.000000  2484.000000   \n",
       "mean      0.355878     0.349973     0.368223     0.148551     0.316713   \n",
       "std       0.104636     0.074433     0.129287     0.162181     0.143732   \n",
       "min       0.000000     0.000000     0.000000     0.000000     0.000000   \n",
       "25%       0.250000     0.333333     0.250000     0.000000     0.216398   \n",
       "50%       0.375000     0.333333     0.333333     0.250000     0.322581   \n",
       "75%       0.375000     0.333333     0.416667     0.250000     0.387097   \n",
       "max       1.000000     1.000000     1.000000     1.000000     1.000000   \n",
       "\n",
       "                15           16           17           18  \n",
       "count  2484.000000  2484.000000  2484.000000  2484.000000  \n",
       "mean      0.066032     0.063424     0.535365     0.350765  \n",
       "std       0.088644     0.089243     0.278160     0.128419  \n",
       "min       0.000000     0.000000     0.000000     0.000000  \n",
       "25%       0.000000     0.000000     0.305085     0.200000  \n",
       "50%       0.000000     0.036388     0.525424     0.400000  \n",
       "75%       0.117978     0.094340     0.745763     0.400000  \n",
       "max       1.000000     1.000000     1.000000     1.000000  "
      ]
     },
     "execution_count": 34,
     "metadata": {},
     "output_type": "execute_result"
    },
    {
     "data": {
      "text/html": [
       "<div>\n",
       "<style scoped>\n",
       "    .dataframe tbody tr th:only-of-type {\n",
       "        vertical-align: middle;\n",
       "    }\n",
       "\n",
       "    .dataframe tbody tr th {\n",
       "        vertical-align: top;\n",
       "    }\n",
       "\n",
       "    .dataframe thead th {\n",
       "        text-align: right;\n",
       "    }\n",
       "</style>\n",
       "<table border=\"1\" class=\"dataframe\">\n",
       "  <thead>\n",
       "    <tr style=\"text-align: right;\">\n",
       "      <th></th>\n",
       "      <th>0</th>\n",
       "      <th>1</th>\n",
       "      <th>2</th>\n",
       "      <th>3</th>\n",
       "      <th>4</th>\n",
       "      <th>5</th>\n",
       "      <th>6</th>\n",
       "      <th>7</th>\n",
       "      <th>8</th>\n",
       "      <th>9</th>\n",
       "      <th>10</th>\n",
       "      <th>11</th>\n",
       "      <th>12</th>\n",
       "      <th>13</th>\n",
       "      <th>14</th>\n",
       "      <th>15</th>\n",
       "      <th>16</th>\n",
       "      <th>17</th>\n",
       "      <th>18</th>\n",
       "    </tr>\n",
       "  </thead>\n",
       "  <tbody>\n",
       "    <tr>\n",
       "      <th>count</th>\n",
       "      <td>439.000000</td>\n",
       "      <td>439.000000</td>\n",
       "      <td>439.000000</td>\n",
       "      <td>439.000000</td>\n",
       "      <td>439.000000</td>\n",
       "      <td>439.000000</td>\n",
       "      <td>439.000000</td>\n",
       "      <td>439.000000</td>\n",
       "      <td>439.000000</td>\n",
       "      <td>439.000000</td>\n",
       "      <td>439.000000</td>\n",
       "      <td>439.000000</td>\n",
       "      <td>439.000000</td>\n",
       "      <td>439.000000</td>\n",
       "      <td>439.000000</td>\n",
       "      <td>439.000000</td>\n",
       "      <td>439.000000</td>\n",
       "      <td>439.000000</td>\n",
       "      <td>439.000000</td>\n",
       "    </tr>\n",
       "    <tr>\n",
       "      <th>mean</th>\n",
       "      <td>0.291686</td>\n",
       "      <td>0.039282</td>\n",
       "      <td>0.275940</td>\n",
       "      <td>0.428853</td>\n",
       "      <td>0.077573</td>\n",
       "      <td>0.245117</td>\n",
       "      <td>0.326313</td>\n",
       "      <td>0.229159</td>\n",
       "      <td>0.197797</td>\n",
       "      <td>0.335672</td>\n",
       "      <td>0.361333</td>\n",
       "      <td>0.337889</td>\n",
       "      <td>0.376803</td>\n",
       "      <td>0.153189</td>\n",
       "      <td>0.318187</td>\n",
       "      <td>0.063117</td>\n",
       "      <td>0.063416</td>\n",
       "      <td>0.550635</td>\n",
       "      <td>0.350569</td>\n",
       "    </tr>\n",
       "    <tr>\n",
       "      <th>std</th>\n",
       "      <td>0.179731</td>\n",
       "      <td>0.018974</td>\n",
       "      <td>0.214601</td>\n",
       "      <td>0.354866</td>\n",
       "      <td>0.126104</td>\n",
       "      <td>0.174439</td>\n",
       "      <td>0.113411</td>\n",
       "      <td>0.099313</td>\n",
       "      <td>0.234025</td>\n",
       "      <td>0.136495</td>\n",
       "      <td>0.096816</td>\n",
       "      <td>0.050160</td>\n",
       "      <td>0.132992</td>\n",
       "      <td>0.156740</td>\n",
       "      <td>0.144318</td>\n",
       "      <td>0.087919</td>\n",
       "      <td>0.090340</td>\n",
       "      <td>0.282682</td>\n",
       "      <td>0.126756</td>\n",
       "    </tr>\n",
       "    <tr>\n",
       "      <th>min</th>\n",
       "      <td>0.000000</td>\n",
       "      <td>0.000823</td>\n",
       "      <td>0.000000</td>\n",
       "      <td>0.000000</td>\n",
       "      <td>0.000000</td>\n",
       "      <td>0.000000</td>\n",
       "      <td>0.000000</td>\n",
       "      <td>0.042742</td>\n",
       "      <td>0.000000</td>\n",
       "      <td>0.045324</td>\n",
       "      <td>0.000000</td>\n",
       "      <td>0.000000</td>\n",
       "      <td>0.083333</td>\n",
       "      <td>0.000000</td>\n",
       "      <td>0.000000</td>\n",
       "      <td>0.000000</td>\n",
       "      <td>0.000000</td>\n",
       "      <td>0.000000</td>\n",
       "      <td>0.000000</td>\n",
       "    </tr>\n",
       "    <tr>\n",
       "      <th>25%</th>\n",
       "      <td>0.210000</td>\n",
       "      <td>0.029012</td>\n",
       "      <td>0.057971</td>\n",
       "      <td>0.100000</td>\n",
       "      <td>0.000000</td>\n",
       "      <td>0.113656</td>\n",
       "      <td>0.259513</td>\n",
       "      <td>0.160069</td>\n",
       "      <td>0.000000</td>\n",
       "      <td>0.230063</td>\n",
       "      <td>0.250000</td>\n",
       "      <td>0.333333</td>\n",
       "      <td>0.250000</td>\n",
       "      <td>0.000000</td>\n",
       "      <td>0.208333</td>\n",
       "      <td>0.000000</td>\n",
       "      <td>0.000000</td>\n",
       "      <td>0.313559</td>\n",
       "      <td>0.200000</td>\n",
       "    </tr>\n",
       "    <tr>\n",
       "      <th>50%</th>\n",
       "      <td>0.320000</td>\n",
       "      <td>0.037743</td>\n",
       "      <td>0.275362</td>\n",
       "      <td>0.266667</td>\n",
       "      <td>0.000000</td>\n",
       "      <td>0.214469</td>\n",
       "      <td>0.306301</td>\n",
       "      <td>0.209409</td>\n",
       "      <td>0.000000</td>\n",
       "      <td>0.310958</td>\n",
       "      <td>0.375000</td>\n",
       "      <td>0.333333</td>\n",
       "      <td>0.333333</td>\n",
       "      <td>0.250000</td>\n",
       "      <td>0.316532</td>\n",
       "      <td>0.000000</td>\n",
       "      <td>0.032345</td>\n",
       "      <td>0.576271</td>\n",
       "      <td>0.400000</td>\n",
       "    </tr>\n",
       "    <tr>\n",
       "      <th>75%</th>\n",
       "      <td>0.392500</td>\n",
       "      <td>0.048148</td>\n",
       "      <td>0.405797</td>\n",
       "      <td>0.758333</td>\n",
       "      <td>0.141509</td>\n",
       "      <td>0.349315</td>\n",
       "      <td>0.381316</td>\n",
       "      <td>0.285141</td>\n",
       "      <td>0.407626</td>\n",
       "      <td>0.417958</td>\n",
       "      <td>0.375000</td>\n",
       "      <td>0.333333</td>\n",
       "      <td>0.416667</td>\n",
       "      <td>0.250000</td>\n",
       "      <td>0.391465</td>\n",
       "      <td>0.117978</td>\n",
       "      <td>0.095687</td>\n",
       "      <td>0.779661</td>\n",
       "      <td>0.500000</td>\n",
       "    </tr>\n",
       "    <tr>\n",
       "      <th>max</th>\n",
       "      <td>1.565000</td>\n",
       "      <td>0.152764</td>\n",
       "      <td>0.833333</td>\n",
       "      <td>1.000000</td>\n",
       "      <td>1.161103</td>\n",
       "      <td>0.907962</td>\n",
       "      <td>0.766687</td>\n",
       "      <td>0.686173</td>\n",
       "      <td>0.874866</td>\n",
       "      <td>0.766208</td>\n",
       "      <td>0.750000</td>\n",
       "      <td>0.666667</td>\n",
       "      <td>0.833333</td>\n",
       "      <td>0.750000</td>\n",
       "      <td>0.772849</td>\n",
       "      <td>0.511236</td>\n",
       "      <td>0.768194</td>\n",
       "      <td>1.000000</td>\n",
       "      <td>0.700000</td>\n",
       "    </tr>\n",
       "  </tbody>\n",
       "</table>\n",
       "</div>"
      ],
      "text/plain": [
       "               0           1           2           3           4           5   \\\n",
       "count  439.000000  439.000000  439.000000  439.000000  439.000000  439.000000   \n",
       "mean     0.291686    0.039282    0.275940    0.428853    0.077573    0.245117   \n",
       "std      0.179731    0.018974    0.214601    0.354866    0.126104    0.174439   \n",
       "min      0.000000    0.000823    0.000000    0.000000    0.000000    0.000000   \n",
       "25%      0.210000    0.029012    0.057971    0.100000    0.000000    0.113656   \n",
       "50%      0.320000    0.037743    0.275362    0.266667    0.000000    0.214469   \n",
       "75%      0.392500    0.048148    0.405797    0.758333    0.141509    0.349315   \n",
       "max      1.565000    0.152764    0.833333    1.000000    1.161103    0.907962   \n",
       "\n",
       "               6           7           8           9           10          11  \\\n",
       "count  439.000000  439.000000  439.000000  439.000000  439.000000  439.000000   \n",
       "mean     0.326313    0.229159    0.197797    0.335672    0.361333    0.337889   \n",
       "std      0.113411    0.099313    0.234025    0.136495    0.096816    0.050160   \n",
       "min      0.000000    0.042742    0.000000    0.045324    0.000000    0.000000   \n",
       "25%      0.259513    0.160069    0.000000    0.230063    0.250000    0.333333   \n",
       "50%      0.306301    0.209409    0.000000    0.310958    0.375000    0.333333   \n",
       "75%      0.381316    0.285141    0.407626    0.417958    0.375000    0.333333   \n",
       "max      0.766687    0.686173    0.874866    0.766208    0.750000    0.666667   \n",
       "\n",
       "               12          13          14          15          16          17  \\\n",
       "count  439.000000  439.000000  439.000000  439.000000  439.000000  439.000000   \n",
       "mean     0.376803    0.153189    0.318187    0.063117    0.063416    0.550635   \n",
       "std      0.132992    0.156740    0.144318    0.087919    0.090340    0.282682   \n",
       "min      0.083333    0.000000    0.000000    0.000000    0.000000    0.000000   \n",
       "25%      0.250000    0.000000    0.208333    0.000000    0.000000    0.313559   \n",
       "50%      0.333333    0.250000    0.316532    0.000000    0.032345    0.576271   \n",
       "75%      0.416667    0.250000    0.391465    0.117978    0.095687    0.779661   \n",
       "max      0.833333    0.750000    0.772849    0.511236    0.768194    1.000000   \n",
       "\n",
       "               18  \n",
       "count  439.000000  \n",
       "mean     0.350569  \n",
       "std      0.126756  \n",
       "min      0.000000  \n",
       "25%      0.200000  \n",
       "50%      0.400000  \n",
       "75%      0.500000  \n",
       "max      0.700000  "
      ]
     },
     "execution_count": 34,
     "metadata": {},
     "output_type": "execute_result"
    }
   ],
   "source": [
    "pd.DataFrame(trainXS).describe()\n",
    "pd.DataFrame(testXS).describe()"
   ]
  },
  {
   "cell_type": "markdown",
   "metadata": {},
   "source": [
    "## Objective 3: PCA"
   ]
  },
  {
   "cell_type": "markdown",
   "metadata": {},
   "source": [
    "Before beginning Principal Component Analysis I will load the relevant package:"
   ]
  },
  {
   "cell_type": "code",
   "execution_count": 35,
   "metadata": {},
   "outputs": [],
   "source": [
    "from sklearn.decomposition import PCA"
   ]
  },
  {
   "cell_type": "markdown",
   "metadata": {},
   "source": [
    "Using PCA and designating n_components = .8, with the solver method being 'full', the PCA will return the components necessary to explain 80% of the variation in the data. I will fit the pca accounting for 80% of variation to the trainXS set and then apply dimensionality reduction to the trainX and testX data saving these as trainXPCA and testXPCA, before displaying the shape of the transformed data and the proportion of variance explained by each component."
   ]
  },
  {
   "cell_type": "code",
   "execution_count": 36,
   "metadata": {},
   "outputs": [
    {
     "data": {
      "text/plain": [
       "PCA(n_components=0.8, svd_solver='full')"
      ]
     },
     "execution_count": 36,
     "metadata": {},
     "output_type": "execute_result"
    }
   ],
   "source": [
    "pca80 = PCA(n_components=.8, svd_solver='full')\n",
    "pca80.fit(trainXS)\n",
    "trainXPCA=pca80.transform(trainX)\n",
    "testXPCA=pca80.transform(testX)"
   ]
  },
  {
   "cell_type": "code",
   "execution_count": 37,
   "metadata": {},
   "outputs": [
    {
     "data": {
      "text/plain": [
       "(2484, 6)"
      ]
     },
     "execution_count": 37,
     "metadata": {},
     "output_type": "execute_result"
    }
   ],
   "source": [
    "trainXPCA.shape"
   ]
  },
  {
   "cell_type": "code",
   "execution_count": 38,
   "metadata": {},
   "outputs": [
    {
     "name": "stdout",
     "output_type": "stream",
     "text": [
      "prop. of variance explained: [0.31865304 0.14886942 0.13871308 0.09940857 0.06638635 0.04816556]\n"
     ]
    }
   ],
   "source": [
    "print(f'prop. of variance explained: {(pca80.explained_variance_ratio_)}')"
   ]
  },
  {
   "cell_type": "markdown",
   "metadata": {},
   "source": [
    "The first 6 components account for over 80% of the variation in the data. We now have two variables, trainXPCA and testXPCA, that I will use for an adaBoost model later in the document. Displaying the PCA components, it is evident that only the first principal component is needed to meet the 80% threshold."
   ]
  },
  {
   "cell_type": "code",
   "execution_count": 39,
   "metadata": {},
   "outputs": [
    {
     "data": {
      "text/plain": [
       "PCA(random_state=33, svd_solver='full')"
      ]
     },
     "execution_count": 39,
     "metadata": {},
     "output_type": "execute_result"
    },
    {
     "data": {
      "text/plain": [
       "<matplotlib.axes._subplots.AxesSubplot at 0x2296df191c0>"
      ]
     },
     "execution_count": 39,
     "metadata": {},
     "output_type": "execute_result"
    },
    {
     "data": {
      "image/png": "[encoded data removed]",
      "text/plain": [
       "<Figure size 432x288 with 1 Axes>"
      ]
     },
     "metadata": {
      "needs_background": "light"
     },
     "output_type": "display_data"
    }
   ],
   "source": [
    "pca = PCA(random_state=33, svd_solver='full')\n",
    "pca.fit(trainXS)\n",
    "skplt.decomposition.plot_pca_component_variance(pca)\n",
    "plt.show()"
   ]
  },
  {
   "cell_type": "markdown",
   "metadata": {},
   "source": [
    "The PCA on our Min-Max scaled training data reveals a need for 6 components in order to meet the threshold of 80% explained variance."
   ]
  },
  {
   "cell_type": "markdown",
   "metadata": {},
   "source": [
    "## Objective 4: Training RF Regressors"
   ]
  },
  {
   "cell_type": "markdown",
   "metadata": {},
   "source": [
    "First I will import relevant packages for train/test split, randomforest, and r2 score"
   ]
  },
  {
   "cell_type": "code",
   "execution_count": 40,
   "metadata": {},
   "outputs": [],
   "source": [
    "from sklearn.ensemble import RandomForestRegressor\n",
    "from sklearn.model_selection import train_test_split\n",
    "from sklearn.metrics import r2_score"
   ]
  },
  {
   "cell_type": "markdown",
   "metadata": {},
   "source": [
    "I will create a new dataframe for the Random Forest Regression and drop features that will not be used in the analysis."
   ]
  },
  {
   "cell_type": "code",
   "execution_count": 41,
   "metadata": {},
   "outputs": [],
   "source": [
    "amesSelDF2 = pd.DataFrame(amesNumDF3)"
   ]
  },
  {
   "cell_type": "code",
   "execution_count": 42,
   "metadata": {},
   "outputs": [],
   "source": [
    "amesSelDF2 = amesSelDF2.drop('Bsmt_Half_Bath', axis=1)\n",
    "amesSelDF2 = amesSelDF2.drop('Bsmt_Full_Bath', axis=1)\n",
    "amesSelDF2 = amesSelDF2.drop('Full_Bath', axis=1)\n",
    "amesSelDF2 = amesSelDF2.drop('Half_Bath', axis=1)\n",
    "amesSelDF2 = amesSelDF2.drop('Enclosed_Porch', axis=1)\n",
    "amesSelDF2 = amesSelDF2.drop('Three_season_porch', axis=1)\n",
    "amesSelDF2 = amesSelDF2.drop('Screen_Porch', axis=1)\n",
    "amesSelDF2= amesSelDF2.drop('Pool_Area', axis=1)\n",
    "amesSelDF2= amesSelDF2.drop('Misc_Val', axis=1)\n",
    "amesSelDF2 = amesSelDF2.drop('Garage_Cars', axis=1)\n",
    "amesSelDF2 = amesSelDF2.drop('Longitude', axis=1)\n",
    "amesSelDF2 = amesSelDF2.drop('Latitude', axis=1)\n",
    "amesSelDF2 = amesSelDF2.drop('BsmtFin_SF_1', axis=1)\n",
    "amesSelDF2 = amesSelDF2.drop('BsmtFin_SF_2', axis=1)\n",
    "amesSelDF2.to_pickle('amesSel2.pickle')"
   ]
  },
  {
   "cell_type": "markdown",
   "metadata": {},
   "source": [
    "Again dropping any rows that have general living area greater than 4000."
   ]
  },
  {
   "cell_type": "code",
   "execution_count": 43,
   "metadata": {},
   "outputs": [],
   "source": [
    "rfDF = amesSelDF2[amesSelDF2.Gr_Liv_Area<4000].copy()"
   ]
  },
  {
   "cell_type": "markdown",
   "metadata": {},
   "source": [
    "I will move the Sale Price variable into the y object and the rest of the selected features into the X object and examine their shapes to ensure they are in the proper format."
   ]
  },
  {
   "cell_type": "code",
   "execution_count": 44,
   "metadata": {},
   "outputs": [
    {
     "data": {
      "text/plain": [
       "(2923, 16)"
      ]
     },
     "execution_count": 44,
     "metadata": {},
     "output_type": "execute_result"
    },
    {
     "data": {
      "text/plain": [
       "(2923,)"
      ]
     },
     "execution_count": 44,
     "metadata": {},
     "output_type": "execute_result"
    }
   ],
   "source": [
    "y = rfDF.Sale_Price.to_numpy(copy=True)\n",
    "X = amesClusDF\n",
    "X.shape\n",
    "y.shape"
   ]
  },
  {
   "cell_type": "markdown",
   "metadata": {},
   "source": [
    "The shapes are appropriate and I will seperate them into an 80/20 train/test split"
   ]
  },
  {
   "cell_type": "code",
   "execution_count": 45,
   "metadata": {},
   "outputs": [
    {
     "data": {
      "text/plain": [
       "((2338, 16), (585, 16))"
      ]
     },
     "execution_count": 45,
     "metadata": {},
     "output_type": "execute_result"
    }
   ],
   "source": [
    "XTrain, XTest, yTrain, yTest = train_test_split(X,y, test_size=.2, random_state=11)\n",
    "trainTestData=[XTrain, XTest, yTrain, yTest]\n",
    "XTrain.shape, XTest.shape"
   ]
  },
  {
   "cell_type": "markdown",
   "metadata": {},
   "source": [
    "Now that the data is partitioned, I will perform a Random Forest Regression and display Training, OOB, and Test Data R2 values."
   ]
  },
  {
   "cell_type": "code",
   "execution_count": 46,
   "metadata": {},
   "outputs": [
    {
     "data": {
      "text/plain": [
       "RandomForestRegressor(max_features='log2', n_estimators=1000, n_jobs=-1,\n",
       "                      oob_score=True, random_state=11)"
      ]
     },
     "execution_count": 46,
     "metadata": {},
     "output_type": "execute_result"
    },
    {
     "name": "stdout",
     "output_type": "stream",
     "text": [
      "RF R², Training: 0.981\n",
      "RF R², OOB: 0.857\n",
      "Test Data R²: 0.868\n"
     ]
    }
   ],
   "source": [
    "RFregr = RandomForestRegressor(n_estimators = 1000, max_features='log2', oob_score=True, n_jobs=-1, random_state=11)\n",
    "RFregr.fit(XTrain,yTrain)\n",
    "print(f'RF R\\u00b2, Training: {RFregr.score(XTrain, yTrain):5.3f}')\n",
    "print(f'RF R\\u00b2, OOB: {RFregr.oob_score_:5.3f}')\n",
    "predTesty = RFregr.predict(XTest)\n",
    "print(f'Test Data R\\u00b2: {r2_score(yTest, predTesty):4.3f}')"
   ]
  },
  {
   "cell_type": "markdown",
   "metadata": {},
   "source": [
    "The model is overtrained as it displays a training R2 score in training of .981 and a test R2 of only .868. Examining feature importance below gives the feature importance for each feature included in the model. I will change my max_features to sqrt which will reduce the number of features to consider, alter my max_depth to 7 from the default of None which will reduce how deep nodes go before expanded."
   ]
  },
  {
   "cell_type": "code",
   "execution_count": 47,
   "metadata": {},
   "outputs": [
    {
     "data": {
      "text/plain": [
       "RandomForestRegressor(max_depth=7, max_features='sqrt', n_estimators=1000,\n",
       "                      n_jobs=-1, oob_score=True, random_state=11)"
      ]
     },
     "execution_count": 47,
     "metadata": {},
     "output_type": "execute_result"
    },
    {
     "name": "stdout",
     "output_type": "stream",
     "text": [
      "RF R², Training: 0.908\n",
      "RF R², OOB: 0.839\n",
      "Test Data R²: 0.851\n"
     ]
    }
   ],
   "source": [
    "RFregr = RandomForestRegressor(n_estimators = 1000, max_depth= 7, max_features='sqrt', oob_score=True, n_jobs=-1, random_state=11)\n",
    "RFregr.fit(XTrain,yTrain)\n",
    "print(f'RF R\\u00b2, Training: {RFregr.score(XTrain, yTrain):5.3f}')\n",
    "print(f'RF R\\u00b2, OOB: {RFregr.oob_score_:5.3f}')\n",
    "predTesty = RFregr.predict(XTest)\n",
    "print(f'Test Data R\\u00b2: {r2_score(yTest, predTesty):4.3f}')"
   ]
  },
  {
   "cell_type": "markdown",
   "metadata": {},
   "source": [
    "These changes drop the training R^2 and Test R^2, while it reduces overfitting it doesn't seem to dramatically alter the performance of the model on testing data. Below are the relevant feature importances:"
   ]
  },
  {
   "cell_type": "code",
   "execution_count": 48,
   "metadata": {},
   "outputs": [
    {
     "data": {
      "text/html": [
       "<div>\n",
       "<style scoped>\n",
       "    .dataframe tbody tr th:only-of-type {\n",
       "        vertical-align: middle;\n",
       "    }\n",
       "\n",
       "    .dataframe tbody tr th {\n",
       "        vertical-align: top;\n",
       "    }\n",
       "\n",
       "    .dataframe thead th {\n",
       "        text-align: right;\n",
       "    }\n",
       "</style>\n",
       "<table border=\"1\" class=\"dataframe\">\n",
       "  <thead>\n",
       "    <tr style=\"text-align: right;\">\n",
       "      <th></th>\n",
       "      <th>feature</th>\n",
       "      <th>importance</th>\n",
       "    </tr>\n",
       "  </thead>\n",
       "  <tbody>\n",
       "    <tr>\n",
       "      <th>0</th>\n",
       "      <td>(L, o, t, _, F, r, o, n, t, a, g, e)</td>\n",
       "      <td>0.014651</td>\n",
       "    </tr>\n",
       "    <tr>\n",
       "      <th>1</th>\n",
       "      <td>(L, o, t, _, A, r, e, a)</td>\n",
       "      <td>0.022005</td>\n",
       "    </tr>\n",
       "    <tr>\n",
       "      <th>2</th>\n",
       "      <td>(M, a, s, _, V, n, r, _, A, r, e, a)</td>\n",
       "      <td>0.049155</td>\n",
       "    </tr>\n",
       "    <tr>\n",
       "      <th>3</th>\n",
       "      <td>(B, s, m, t, _, U, n, f, _, S, F)</td>\n",
       "      <td>0.009617</td>\n",
       "    </tr>\n",
       "    <tr>\n",
       "      <th>4</th>\n",
       "      <td>(T, o, t, a, l, _, B, s, m, t, _, S, F)</td>\n",
       "      <td>0.179421</td>\n",
       "    </tr>\n",
       "    <tr>\n",
       "      <th>5</th>\n",
       "      <td>(F, i, r, s, t, _, F, l, r, _, S, F)</td>\n",
       "      <td>0.106128</td>\n",
       "    </tr>\n",
       "    <tr>\n",
       "      <th>6</th>\n",
       "      <td>(S, e, c, o, n, d, _, F, l, r, _, S, F)</td>\n",
       "      <td>0.037183</td>\n",
       "    </tr>\n",
       "    <tr>\n",
       "      <th>7</th>\n",
       "      <td>(G, r, _, L, i, v, _, A, r, e, a)</td>\n",
       "      <td>0.188165</td>\n",
       "    </tr>\n",
       "    <tr>\n",
       "      <th>8</th>\n",
       "      <td>(B, e, d, r, o, o, m, _, A, b, v, G, r)</td>\n",
       "      <td>0.012624</td>\n",
       "    </tr>\n",
       "    <tr>\n",
       "      <th>9</th>\n",
       "      <td>(K, i, t, c, h, e, n, _, A, b, v, G, r)</td>\n",
       "      <td>0.010737</td>\n",
       "    </tr>\n",
       "    <tr>\n",
       "      <th>10</th>\n",
       "      <td>(T, o, t, R, m, s, _, A, b, v, G, r, d)</td>\n",
       "      <td>0.023054</td>\n",
       "    </tr>\n",
       "    <tr>\n",
       "      <th>11</th>\n",
       "      <td>(F, i, r, e, p, l, a, c, e, s)</td>\n",
       "      <td>0.045967</td>\n",
       "    </tr>\n",
       "    <tr>\n",
       "      <th>12</th>\n",
       "      <td>(G, a, r, a, g, e, _, A, r, e, a)</td>\n",
       "      <td>0.169055</td>\n",
       "    </tr>\n",
       "    <tr>\n",
       "      <th>13</th>\n",
       "      <td>(W, o, o, d, _, D, e, c, k, _, S, F)</td>\n",
       "      <td>0.011141</td>\n",
       "    </tr>\n",
       "    <tr>\n",
       "      <th>14</th>\n",
       "      <td>(O, p, e, n, _, P, o, r, c, h, _, S, F)</td>\n",
       "      <td>0.030878</td>\n",
       "    </tr>\n",
       "    <tr>\n",
       "      <th>15</th>\n",
       "      <td>(B, a, t, h, r, o, o, m, s)</td>\n",
       "      <td>0.090220</td>\n",
       "    </tr>\n",
       "  </tbody>\n",
       "</table>\n",
       "</div>"
      ],
      "text/plain": [
       "                                    feature  importance\n",
       "0      (L, o, t, _, F, r, o, n, t, a, g, e)    0.014651\n",
       "1                  (L, o, t, _, A, r, e, a)    0.022005\n",
       "2      (M, a, s, _, V, n, r, _, A, r, e, a)    0.049155\n",
       "3         (B, s, m, t, _, U, n, f, _, S, F)    0.009617\n",
       "4   (T, o, t, a, l, _, B, s, m, t, _, S, F)    0.179421\n",
       "5      (F, i, r, s, t, _, F, l, r, _, S, F)    0.106128\n",
       "6   (S, e, c, o, n, d, _, F, l, r, _, S, F)    0.037183\n",
       "7         (G, r, _, L, i, v, _, A, r, e, a)    0.188165\n",
       "8   (B, e, d, r, o, o, m, _, A, b, v, G, r)    0.012624\n",
       "9   (K, i, t, c, h, e, n, _, A, b, v, G, r)    0.010737\n",
       "10  (T, o, t, R, m, s, _, A, b, v, G, r, d)    0.023054\n",
       "11           (F, i, r, e, p, l, a, c, e, s)    0.045967\n",
       "12        (G, a, r, a, g, e, _, A, r, e, a)    0.169055\n",
       "13     (W, o, o, d, _, D, e, c, k, _, S, F)    0.011141\n",
       "14  (O, p, e, n, _, P, o, r, c, h, _, S, F)    0.030878\n",
       "15              (B, a, t, h, r, o, o, m, s)    0.090220"
      ]
     },
     "execution_count": 48,
     "metadata": {},
     "output_type": "execute_result"
    }
   ],
   "source": [
    "RFFeatImpDF = pd.DataFrame({'feature': X,\n",
    "                            'importance':RFregr.feature_importances_})\n",
    "RFFeatImpDF"
   ]
  },
  {
   "cell_type": "markdown",
   "metadata": {},
   "source": [
    "## Objective 5: Training Boosted Regression"
   ]
  },
  {
   "cell_type": "markdown",
   "metadata": {},
   "source": [
    "First I will import the AdaBoostRegressor from sklearn before choosing the number of estimators and learning rate and storing the model under 'AdaBst'. I will use hold out validation as a method for validating the model using the aforementioned 80/20 partition from the train/test split earlier in the document."
   ]
  },
  {
   "cell_type": "code",
   "execution_count": 49,
   "metadata": {},
   "outputs": [],
   "source": [
    "from sklearn.ensemble import AdaBoostRegressor"
   ]
  },
  {
   "cell_type": "code",
   "execution_count": 50,
   "metadata": {},
   "outputs": [],
   "source": [
    "AdaBst = AdaBoostRegressor(base_estimator=None, n_estimators=100, learning_rate=.32, loss='linear', random_state=22)"
   ]
  },
  {
   "cell_type": "markdown",
   "metadata": {},
   "source": [
    "Fitting this AdaBst model to the training data and then generating a score for the training data reveals:"
   ]
  },
  {
   "cell_type": "code",
   "execution_count": 51,
   "metadata": {},
   "outputs": [
    {
     "data": {
      "text/plain": [
       "AdaBoostRegressor(learning_rate=0.32, n_estimators=100, random_state=22)"
      ]
     },
     "execution_count": 51,
     "metadata": {},
     "output_type": "execute_result"
    },
    {
     "name": "stdout",
     "output_type": "stream",
     "text": [
      " Training R²: 0.8516257698020803\n"
     ]
    }
   ],
   "source": [
    "AdaBst.fit(trainX, trainY)\n",
    "print(f' Training R\\u00b2: {AdaBst.score(trainX,trainY)}')"
   ]
  },
  {
   "cell_type": "markdown",
   "metadata": {},
   "source": [
    "Now, predicting Y for the testing data based on the testX variable and looking at the score for how this predicted model performs:"
   ]
  },
  {
   "cell_type": "code",
   "execution_count": 52,
   "metadata": {},
   "outputs": [],
   "source": [
    "predY = AdaBst.predict(testX)"
   ]
  },
  {
   "cell_type": "code",
   "execution_count": 53,
   "metadata": {},
   "outputs": [
    {
     "name": "stdout",
     "output_type": "stream",
     "text": [
      " Testing R²: 0.8244316952175847\n"
     ]
    }
   ],
   "source": [
    "print(f' Testing R\\u00b2: {r2_score(testY, predY)}')"
   ]
  },
  {
   "cell_type": "markdown",
   "metadata": {},
   "source": [
    "Overall, while slightly overfit, this model seems to perform comparably to the other methods used in this document. I will perform this same methodology again using the PCA transformed data from earlier in the document."
   ]
  },
  {
   "cell_type": "code",
   "execution_count": 54,
   "metadata": {},
   "outputs": [],
   "source": [
    "AdaBstPCA = AdaBoostRegressor(base_estimator=None, n_estimators=100, learning_rate=.32, loss='linear', random_state=22)"
   ]
  },
  {
   "cell_type": "code",
   "execution_count": 55,
   "metadata": {},
   "outputs": [
    {
     "data": {
      "text/plain": [
       "AdaBoostRegressor(learning_rate=0.32, n_estimators=100, random_state=22)"
      ]
     },
     "execution_count": 55,
     "metadata": {},
     "output_type": "execute_result"
    },
    {
     "name": "stdout",
     "output_type": "stream",
     "text": [
      " Training R²: 0.7827226328493484\n"
     ]
    }
   ],
   "source": [
    "AdaBstPCA.fit(trainXPCA, trainY)\n",
    "print(f' Training R\\u00b2: {AdaBstPCA.score(trainXPCA,trainY)}')"
   ]
  },
  {
   "cell_type": "code",
   "execution_count": 56,
   "metadata": {},
   "outputs": [
    {
     "name": "stdout",
     "output_type": "stream",
     "text": [
      "Testing R²: 0.728465567000768\n"
     ]
    }
   ],
   "source": [
    "testYPCA = AdaBstPCA.predict(testXPCA)\n",
    "print(f'Testing R\\u00b2: {r2_score(testY, testYPCA)}')"
   ]
  },
  {
   "cell_type": "markdown",
   "metadata": {},
   "source": [
    "This model performs similarly in regard to the fact that it is overfit, however it has lower training and testing scores than those before it. The min-max scaled data performs better than if the scaled data was standardized, however only marginally so. It seems that using the components reduced the ability of the model to explain variance in the data which would seem to make sense considering it is based on the PCA which reduced the components down in order to explain only above 80% of the variance. "
   ]
  }
 ],
 "metadata": {
  "kernelspec": {
   "display_name": "Python 3",
   "language": "python",
   "name": "python3"
  },
  "language_info": {
   "codemirror_mode": {
    "name": "ipython",
    "version": 3
   },
   "file_extension": ".py",
   "mimetype": "text/x-python",
   "name": "python",
   "nbconvert_exporter": "python",
   "pygments_lexer": "ipython3",
   "version": "3.8.3"
  }
 },
 "nbformat": 4,
 "nbformat_minor": 4
}
