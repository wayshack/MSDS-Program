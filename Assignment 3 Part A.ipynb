{
 "cells": [
  {
   "cell_type": "code",
   "execution_count": 1,
   "metadata": {},
   "outputs": [],
   "source": [
    "from IPython.core.interactiveshell import InteractiveShell\n",
    "InteractiveShell.ast_node_interactivity = \"all\""
   ]
  },
  {
   "cell_type": "markdown",
   "metadata": {},
   "source": [
    "## Assignment 3 Part 1"
   ]
  },
  {
   "cell_type": "markdown",
   "metadata": {},
   "source": [
    "## Objective 0: Data Input, Verification, and Transformation"
   ]
  },
  {
   "cell_type": "markdown",
   "metadata": {},
   "source": [
    "First I will import relevant packages for checking and changing the working directory, creating dataframes, splitting the data into train/validation/test splits, and for analyzing the data."
   ]
  },
  {
   "cell_type": "code",
   "execution_count": 105,
   "metadata": {},
   "outputs": [],
   "source": [
    "import numpy as np\n",
    "import pandas as pd\n",
    "import os\n",
    "from sklearn.model_selection import train_test_split\n",
    "import tensorflow as tf\n",
    "from tensorflow import keras\n",
    "from numpy import asarray, save, load\n",
    "import matplotlib.pyplot as plt"
   ]
  },
  {
   "cell_type": "markdown",
   "metadata": {},
   "source": [
    "Checking the working directory:"
   ]
  },
  {
   "cell_type": "code",
   "execution_count": 3,
   "metadata": {},
   "outputs": [
    {
     "data": {
      "text/plain": [
       "'C:\\\\Users\\\\Wyatt\\\\Downloads'"
      ]
     },
     "execution_count": 3,
     "metadata": {},
     "output_type": "execute_result"
    }
   ],
   "source": [
    "os.getcwd()"
   ]
  },
  {
   "cell_type": "markdown",
   "metadata": {},
   "source": [
    "The data for this analysis is contained in a folder in this directory, I will change the directory to that folder and check the available data:"
   ]
  },
  {
   "cell_type": "code",
   "execution_count": 4,
   "metadata": {},
   "outputs": [
    {
     "data": {
      "text/plain": [
       "'C:\\\\Users\\\\Wyatt\\\\Downloads\\\\Assignment 3'"
      ]
     },
     "execution_count": 4,
     "metadata": {},
     "output_type": "execute_result"
    },
    {
     "data": {
      "text/plain": [
       "['assign-3-part-1-test.pickle', 'assign-3-part-1-train.pickle']"
      ]
     },
     "execution_count": 4,
     "metadata": {},
     "output_type": "execute_result"
    }
   ],
   "source": [
    "os.chdir('C:\\\\Users\\\\Wyatt\\\\Downloads\\\\Assignment 3')\n",
    "os.getcwd()\n",
    "os.listdir('Pickles')"
   ]
  },
  {
   "cell_type": "markdown",
   "metadata": {},
   "source": [
    "Reading these pickles and assigning them to the relevant names:"
   ]
  },
  {
   "cell_type": "code",
   "execution_count": 5,
   "metadata": {},
   "outputs": [],
   "source": [
    "training_data = pd.read_pickle('C:\\\\Users\\\\Wyatt\\\\Downloads\\\\Assignment 3\\\\Pickles\\\\assign-3-part-1-train.pickle')\n",
    "test_data = pd.read_pickle('C:\\\\Users\\\\Wyatt\\\\Downloads\\\\Assignment 3\\\\Pickles\\\\assign-3-part-1-test.pickle')"
   ]
  },
  {
   "cell_type": "markdown",
   "metadata": {},
   "source": [
    "Checking the shape of the data and ensuring that the data falls within appropriate values:"
   ]
  },
  {
   "cell_type": "code",
   "execution_count": 6,
   "metadata": {},
   "outputs": [
    {
     "data": {
      "text/plain": [
       "(40320, 786)"
      ]
     },
     "execution_count": 6,
     "metadata": {},
     "output_type": "execute_result"
    },
    {
     "data": {
      "text/plain": [
       "(1680, 786)"
      ]
     },
     "execution_count": 6,
     "metadata": {},
     "output_type": "execute_result"
    },
    {
     "name": "stdout",
     "output_type": "stream",
     "text": [
      "0 Values in the training data fall outside the range [0,9]\n",
      "0 Values in the test data column titled label are not NaN\n"
     ]
    }
   ],
   "source": [
    "training_data.shape\n",
    "test_data.shape\n",
    "print(sum(training_data['label']>9)+sum(training_data['label']<0), 'Values in the training data fall outside the range [0,9]')\n",
    "print((1680 - sum(np.isnan(test_data['label']))), 'Values in the test data column titled label are not NaN')"
   ]
  },
  {
   "cell_type": "markdown",
   "metadata": {},
   "source": [
    "Ensuring that the pixles in the images fall between 0 and 255:"
   ]
  },
  {
   "cell_type": "code",
   "execution_count": 7,
   "metadata": {},
   "outputs": [
    {
     "name": "stdout",
     "output_type": "stream",
     "text": [
      "0 values are less than 0 pixels in the training set\n",
      "0 values exceed 255 pixels in the training set\n",
      "0 values are less than 0 pixels in the test set\n",
      "0 values exceed 255 pixels in the test set\n"
     ]
    }
   ],
   "source": [
    "training_pixel_too_few = training_data.loc[:,training_data.columns != ('label' or 'imageID')].copy()< 0\n",
    "print(sum(training_pixel_too_few.any()), 'values are less than 0 pixels in the training set')\n",
    "training_pixel_too_many = training_data.loc[:,training_data.columns != ('imageID')].copy()>255\n",
    "print(sum(training_pixel_too_many.any()), 'values exceed 255 pixels in the training set')\n",
    "test_pixel_too_few = test_data.loc[:,test_data.columns != ('label' or 'imageID')].copy()<0\n",
    "print(sum(test_pixel_too_few.any()), 'values are less than 0 pixels in the test set')\n",
    "test_pixel_too_many = test_data.loc[:,test_data.columns != ('imageID')].copy()>255\n",
    "print(sum(test_pixel_too_many.any()), 'values exceed 255 pixels in the test set')"
   ]
  },
  {
   "cell_type": "markdown",
   "metadata": {},
   "source": [
    "Rescaling the pixels from [0,255] to [0,1]:"
   ]
  },
  {
   "cell_type": "code",
   "execution_count": 8,
   "metadata": {},
   "outputs": [],
   "source": [
    "rescaled_training_data = training_data.loc[:,training_data.columns != 'imageID'].copy()\n",
    "rescaled_training_data = rescaled_training_data.loc[:,rescaled_training_data.columns != 'label'].copy()\n",
    "rescaled_training_data = np.divide(rescaled_training_data,255.).copy()\n",
    "\n",
    "rescaled_test_data = test_data.loc[:,test_data.columns != 'imageID'].copy()\n",
    "rescaled_test_data = rescaled_test_data.loc[:,rescaled_test_data.columns != 'label'].copy()\n",
    "rescaled_test_data = np.divide(rescaled_test_data,255.).copy()"
   ]
  },
  {
   "cell_type": "markdown",
   "metadata": {},
   "source": [
    "Splitting the training data into train, validate, test splits:"
   ]
  },
  {
   "cell_type": "code",
   "execution_count": 9,
   "metadata": {},
   "outputs": [],
   "source": [
    "X = rescaled_training_data\n",
    "y = training_data['label'].copy()\n",
    "X_train, X_test, y_train, y_test = train_test_split(X, y, test_size=0.2, random_state=1)\n",
    "X_train, X_val, y_train, y_val = train_test_split(X_train, y_train, test_size=0.25, random_state=1)"
   ]
  },
  {
   "cell_type": "markdown",
   "metadata": {},
   "source": [
    "## Part 1 Objective 1: Train and Evaluate Four Versions of a MLP That Predicts Digit Labels"
   ]
  },
  {
   "cell_type": "markdown",
   "metadata": {},
   "source": [
    "Checking the data shape for the train dataset:"
   ]
  },
  {
   "cell_type": "code",
   "execution_count": 10,
   "metadata": {},
   "outputs": [
    {
     "data": {
      "text/plain": [
       "(24192, 784)"
      ]
     },
     "execution_count": 10,
     "metadata": {},
     "output_type": "execute_result"
    }
   ],
   "source": [
    "X_train.shape"
   ]
  },
  {
   "cell_type": "markdown",
   "metadata": {},
   "source": [
    "Importing time and creating a custom callback to be able to check time by epoch by callback:"
   ]
  },
  {
   "cell_type": "code",
   "execution_count": 11,
   "metadata": {},
   "outputs": [],
   "source": [
    "import time\n",
    "class TimeHistory(keras.callbacks.Callback):\n",
    "    def on_train_begin(self, logs={}):\n",
    "        self.times = []\n",
    "\n",
    "    def on_epoch_begin(self, batch, logs={}):\n",
    "        self.epoch_time_start = time.time()\n",
    "\n",
    "    def on_epoch_end(self, batch, logs={}):\n",
    "        self.times.append(time.time() - self.epoch_time_start)"
   ]
  },
  {
   "cell_type": "code",
   "execution_count": 12,
   "metadata": {},
   "outputs": [],
   "source": [
    "time_callback = TimeHistory()"
   ]
  },
  {
   "cell_type": "markdown",
   "metadata": {},
   "source": [
    "Choosing the model and layer choices. I will run four seperate models:\n",
    "\n",
    "Model 1: Three hidden layers, one with 300 neurons, one with 100 neurons, those two with relu activation, one with 10 neurons and softmax activation\n",
    "Model 2: Four hidden layers: 500, 250, 100 neurons with relu activation, 10 neurons with softmax activation\n",
    "Model 3: Five hidden layers: 500, 250, 100, 50 neurons with relu activation, 10 neurons with softmax activation\n",
    "Model 4: Six hidden layers: 500, 250, 100, 50, 25 neurons with relu activation, 10 neurons with softmax activation\n",
    "\n",
    "All models will be compiled using sparse categorical crossentropy and a sgd optimizer, metrics are designated as accuracy."
   ]
  },
  {
   "cell_type": "code",
   "execution_count": 13,
   "metadata": {},
   "outputs": [],
   "source": [
    "model = keras.models.Sequential()\n",
    "model.add(keras.layers.Flatten(input_shape=[784]))\n",
    "model.add(keras.layers.Dense(300, activation=\"relu\"))\n",
    "model.add(keras.layers.Dense(100, activation=\"relu\"))\n",
    "model.add(keras.layers.Dense(10, activation=\"softmax\"))"
   ]
  },
  {
   "cell_type": "code",
   "execution_count": 14,
   "metadata": {},
   "outputs": [],
   "source": [
    "model.compile(loss=\"sparse_categorical_crossentropy\", optimizer=\"sgd\", metrics=[\"accuracy\"])"
   ]
  },
  {
   "cell_type": "markdown",
   "metadata": {},
   "source": [
    "Running model 1 and saving to history, times for epochs saved to times:"
   ]
  },
  {
   "cell_type": "code",
   "execution_count": null,
   "metadata": {},
   "outputs": [],
   "source": [
    "history = model.fit(X_train, y_train, epochs=30, validation_data=(X_val, y_val),callbacks=[time_callback])\n",
    "times = time_callback.times"
   ]
  },
  {
   "cell_type": "markdown",
   "metadata": {},
   "source": [
    "Running model 2 and saving to history2, times2 for epochs saved to times:"
   ]
  },
  {
   "cell_type": "code",
   "execution_count": null,
   "metadata": {},
   "outputs": [],
   "source": [
    "model2 = keras.models.Sequential()\n",
    "model2.add(keras.layers.Flatten(input_shape=[784]))\n",
    "model2.add(keras.layers.Dense(500, activation=\"relu\"))\n",
    "model2.add(keras.layers.Dense(250, activation=\"relu\"))\n",
    "model2.add(keras.layers.Dense(100, activation=\"relu\"))\n",
    "model2.add(keras.layers.Dense(10, activation=\"softmax\"))\n",
    "model2.compile(loss=\"sparse_categorical_crossentropy\", optimizer=\"sgd\", metrics=[\"accuracy\"])\n",
    "history2 = model2.fit(X_train, y_train, epochs=30, validation_data=(X_val, y_val),callbacks=[time_callback])\n",
    "times2 = time_callback.times"
   ]
  },
  {
   "cell_type": "markdown",
   "metadata": {},
   "source": [
    "Running model 3 and saving to history3, times for epochs saved to times3:"
   ]
  },
  {
   "cell_type": "code",
   "execution_count": null,
   "metadata": {},
   "outputs": [],
   "source": [
    "model3 = keras.models.Sequential()\n",
    "model3.add(keras.layers.Flatten(input_shape=[784]))\n",
    "model3.add(keras.layers.Dense(500, activation=\"relu\"))\n",
    "model3.add(keras.layers.Dense(250, activation=\"relu\"))\n",
    "model3.add(keras.layers.Dense(100, activation=\"relu\"))\n",
    "model3.add(keras.layers.Dense(50, activation=\"relu\"))\n",
    "model3.add(keras.layers.Dense(10, activation=\"softmax\"))\n",
    "model3.compile(loss=\"sparse_categorical_crossentropy\", optimizer=\"sgd\", metrics=[\"accuracy\"])\n",
    "history3 = model3.fit(X_train, y_train, epochs=30, validation_data=(X_val, y_val),callbacks=[time_callback])\n",
    "times3 = time_callback.times"
   ]
  },
  {
   "cell_type": "markdown",
   "metadata": {},
   "source": [
    "Running model 4 and saving to history4, times for epochs saved to times4:"
   ]
  },
  {
   "cell_type": "code",
   "execution_count": null,
   "metadata": {},
   "outputs": [],
   "source": [
    "model4 = keras.models.Sequential()\n",
    "model4.add(keras.layers.Flatten(input_shape=[784]))\n",
    "model4.add(keras.layers.Dense(500, activation=\"relu\"))\n",
    "model4.add(keras.layers.Dense(250, activation=\"relu\"))\n",
    "model4.add(keras.layers.Dense(100, activation=\"relu\"))\n",
    "model4.add(keras.layers.Dense(50, activation=\"relu\"))\n",
    "model4.add(keras.layers.Dense(25, activation=\"relu\"))\n",
    "model4.add(keras.layers.Dense(10, activation=\"softmax\"))\n",
    "model4.compile(loss=\"sparse_categorical_crossentropy\", optimizer=\"sgd\", metrics=[\"accuracy\"])\n",
    "history4 = model4.fit(X_train, y_train, epochs=30, validation_data=(X_val, y_val),callbacks=[time_callback])\n",
    "times4 = time_callback.times"
   ]
  },
  {
   "cell_type": "code",
   "execution_count": 161,
   "metadata": {},
   "outputs": [
    {
     "data": {
      "text/html": [
       "<div>\n",
       "<style scoped>\n",
       "    .dataframe tbody tr th:only-of-type {\n",
       "        vertical-align: middle;\n",
       "    }\n",
       "\n",
       "    .dataframe tbody tr th {\n",
       "        vertical-align: top;\n",
       "    }\n",
       "\n",
       "    .dataframe thead th {\n",
       "        text-align: right;\n",
       "    }\n",
       "</style>\n",
       "<table border=\"1\" class=\"dataframe\">\n",
       "  <thead>\n",
       "    <tr style=\"text-align: right;\">\n",
       "      <th></th>\n",
       "      <th>Acc1</th>\n",
       "      <th>Acc2</th>\n",
       "      <th>Acc3</th>\n",
       "      <th>Acc4</th>\n",
       "      <th>ValAcc1</th>\n",
       "      <th>ValAcc2</th>\n",
       "      <th>ValAcc3</th>\n",
       "      <th>ValAcc4</th>\n",
       "      <th>Time 1</th>\n",
       "      <th>Time 2</th>\n",
       "      <th>Time 3</th>\n",
       "      <th>Time 4</th>\n",
       "    </tr>\n",
       "  </thead>\n",
       "  <tbody>\n",
       "    <tr>\n",
       "      <th>1</th>\n",
       "      <td>0.792369</td>\n",
       "      <td>0.898024</td>\n",
       "      <td>0.913773</td>\n",
       "      <td>0.923652</td>\n",
       "      <td>0.930638</td>\n",
       "      <td>0.937459</td>\n",
       "      <td>0.942956</td>\n",
       "      <td>0.947214</td>\n",
       "      <td>0.950893</td>\n",
       "      <td>0.955729</td>\n",
       "      <td>0.957465</td>\n",
       "      <td>0.960235</td>\n",
       "    </tr>\n",
       "    <tr>\n",
       "      <th>2</th>\n",
       "      <td>0.963376</td>\n",
       "      <td>0.966187</td>\n",
       "      <td>0.968378</td>\n",
       "      <td>0.969866</td>\n",
       "      <td>0.971644</td>\n",
       "      <td>0.973049</td>\n",
       "      <td>0.974868</td>\n",
       "      <td>0.976811</td>\n",
       "      <td>0.978133</td>\n",
       "      <td>0.979084</td>\n",
       "      <td>0.980655</td>\n",
       "      <td>0.982391</td>\n",
       "    </tr>\n",
       "    <tr>\n",
       "      <th>3</th>\n",
       "      <td>0.983176</td>\n",
       "      <td>0.983920</td>\n",
       "      <td>0.984954</td>\n",
       "      <td>0.985904</td>\n",
       "      <td>0.986814</td>\n",
       "      <td>0.988054</td>\n",
       "      <td>0.782655</td>\n",
       "      <td>0.904018</td>\n",
       "      <td>0.920800</td>\n",
       "      <td>0.933986</td>\n",
       "      <td>0.942006</td>\n",
       "      <td>0.949239</td>\n",
       "    </tr>\n",
       "    <tr>\n",
       "      <th>4</th>\n",
       "      <td>0.955150</td>\n",
       "      <td>0.960317</td>\n",
       "      <td>0.964782</td>\n",
       "      <td>0.968047</td>\n",
       "      <td>0.971313</td>\n",
       "      <td>0.973710</td>\n",
       "      <td>0.976480</td>\n",
       "      <td>0.979291</td>\n",
       "      <td>0.981730</td>\n",
       "      <td>0.982060</td>\n",
       "      <td>0.984912</td>\n",
       "      <td>0.986318</td>\n",
       "    </tr>\n",
       "    <tr>\n",
       "      <th>5</th>\n",
       "      <td>0.987889</td>\n",
       "      <td>0.988715</td>\n",
       "      <td>0.989583</td>\n",
       "      <td>0.990782</td>\n",
       "      <td>0.992436</td>\n",
       "      <td>0.993262</td>\n",
       "      <td>0.994254</td>\n",
       "      <td>0.994668</td>\n",
       "      <td>0.995494</td>\n",
       "      <td>0.996321</td>\n",
       "      <td>0.996858</td>\n",
       "      <td>0.997313</td>\n",
       "    </tr>\n",
       "    <tr>\n",
       "      <th>6</th>\n",
       "      <td>0.750744</td>\n",
       "      <td>0.905093</td>\n",
       "      <td>0.925761</td>\n",
       "      <td>0.937417</td>\n",
       "      <td>0.947669</td>\n",
       "      <td>0.955398</td>\n",
       "      <td>0.962219</td>\n",
       "      <td>0.966063</td>\n",
       "      <td>0.970445</td>\n",
       "      <td>0.974909</td>\n",
       "      <td>0.978299</td>\n",
       "      <td>0.981109</td>\n",
       "    </tr>\n",
       "    <tr>\n",
       "      <th>7</th>\n",
       "      <td>0.982556</td>\n",
       "      <td>0.986235</td>\n",
       "      <td>0.987806</td>\n",
       "      <td>0.989335</td>\n",
       "      <td>0.991526</td>\n",
       "      <td>0.992642</td>\n",
       "      <td>0.994296</td>\n",
       "      <td>0.995453</td>\n",
       "      <td>0.996197</td>\n",
       "      <td>0.996734</td>\n",
       "      <td>0.997561</td>\n",
       "      <td>0.998347</td>\n",
       "    </tr>\n",
       "    <tr>\n",
       "      <th>8</th>\n",
       "      <td>0.998801</td>\n",
       "      <td>0.998760</td>\n",
       "      <td>0.999297</td>\n",
       "      <td>0.999504</td>\n",
       "      <td>0.999711</td>\n",
       "      <td>0.999711</td>\n",
       "      <td>0.680101</td>\n",
       "      <td>0.898520</td>\n",
       "      <td>0.926009</td>\n",
       "      <td>0.941510</td>\n",
       "      <td>0.950893</td>\n",
       "      <td>0.960235</td>\n",
       "    </tr>\n",
       "    <tr>\n",
       "      <th>9</th>\n",
       "      <td>0.967221</td>\n",
       "      <td>0.971602</td>\n",
       "      <td>0.977059</td>\n",
       "      <td>0.980985</td>\n",
       "      <td>0.984086</td>\n",
       "      <td>0.986648</td>\n",
       "      <td>0.989625</td>\n",
       "      <td>0.991774</td>\n",
       "      <td>0.994172</td>\n",
       "      <td>0.995164</td>\n",
       "      <td>0.996610</td>\n",
       "      <td>0.997230</td>\n",
       "    </tr>\n",
       "    <tr>\n",
       "      <th>10</th>\n",
       "      <td>0.997851</td>\n",
       "      <td>0.998636</td>\n",
       "      <td>0.999132</td>\n",
       "      <td>0.999752</td>\n",
       "      <td>0.999835</td>\n",
       "      <td>0.999917</td>\n",
       "      <td>0.999959</td>\n",
       "      <td>0.999959</td>\n",
       "      <td>1.000000</td>\n",
       "      <td>1.000000</td>\n",
       "      <td>1.000000</td>\n",
       "      <td>1.000000</td>\n",
       "    </tr>\n",
       "    <tr>\n",
       "      <th>11</th>\n",
       "      <td>0.891617</td>\n",
       "      <td>0.908606</td>\n",
       "      <td>0.920263</td>\n",
       "      <td>0.923859</td>\n",
       "      <td>0.930184</td>\n",
       "      <td>0.932664</td>\n",
       "      <td>0.937500</td>\n",
       "      <td>0.939980</td>\n",
       "      <td>0.942956</td>\n",
       "      <td>0.944072</td>\n",
       "      <td>0.945685</td>\n",
       "      <td>0.947917</td>\n",
       "    </tr>\n",
       "    <tr>\n",
       "      <th>12</th>\n",
       "      <td>0.951513</td>\n",
       "      <td>0.952257</td>\n",
       "      <td>0.953125</td>\n",
       "      <td>0.953249</td>\n",
       "      <td>0.955729</td>\n",
       "      <td>0.957093</td>\n",
       "      <td>0.956845</td>\n",
       "      <td>0.957341</td>\n",
       "      <td>0.959821</td>\n",
       "      <td>0.960069</td>\n",
       "      <td>0.959821</td>\n",
       "      <td>0.959821</td>\n",
       "    </tr>\n",
       "    <tr>\n",
       "      <th>13</th>\n",
       "      <td>0.961186</td>\n",
       "      <td>0.961806</td>\n",
       "      <td>0.961930</td>\n",
       "      <td>0.960317</td>\n",
       "      <td>0.964038</td>\n",
       "      <td>0.962426</td>\n",
       "      <td>0.886037</td>\n",
       "      <td>0.915923</td>\n",
       "      <td>0.925471</td>\n",
       "      <td>0.926463</td>\n",
       "      <td>0.936508</td>\n",
       "      <td>0.942708</td>\n",
       "    </tr>\n",
       "    <tr>\n",
       "      <th>14</th>\n",
       "      <td>0.947669</td>\n",
       "      <td>0.950893</td>\n",
       "      <td>0.951389</td>\n",
       "      <td>0.954489</td>\n",
       "      <td>0.954365</td>\n",
       "      <td>0.958705</td>\n",
       "      <td>0.959821</td>\n",
       "      <td>0.962426</td>\n",
       "      <td>0.962178</td>\n",
       "      <td>0.963170</td>\n",
       "      <td>0.961682</td>\n",
       "      <td>0.965898</td>\n",
       "    </tr>\n",
       "    <tr>\n",
       "      <th>15</th>\n",
       "      <td>0.965278</td>\n",
       "      <td>0.964410</td>\n",
       "      <td>0.966146</td>\n",
       "      <td>0.964162</td>\n",
       "      <td>0.965278</td>\n",
       "      <td>0.967882</td>\n",
       "      <td>0.968006</td>\n",
       "      <td>0.968006</td>\n",
       "      <td>0.968254</td>\n",
       "      <td>0.966394</td>\n",
       "      <td>0.967634</td>\n",
       "      <td>0.968254</td>\n",
       "    </tr>\n",
       "    <tr>\n",
       "      <th>16</th>\n",
       "      <td>0.883557</td>\n",
       "      <td>0.912202</td>\n",
       "      <td>0.923983</td>\n",
       "      <td>0.935268</td>\n",
       "      <td>0.938368</td>\n",
       "      <td>0.946925</td>\n",
       "      <td>0.949157</td>\n",
       "      <td>0.953993</td>\n",
       "      <td>0.954613</td>\n",
       "      <td>0.954861</td>\n",
       "      <td>0.957837</td>\n",
       "      <td>0.957217</td>\n",
       "    </tr>\n",
       "    <tr>\n",
       "      <th>17</th>\n",
       "      <td>0.962302</td>\n",
       "      <td>0.962674</td>\n",
       "      <td>0.962922</td>\n",
       "      <td>0.964658</td>\n",
       "      <td>0.964410</td>\n",
       "      <td>0.965898</td>\n",
       "      <td>0.963790</td>\n",
       "      <td>0.967510</td>\n",
       "      <td>0.963294</td>\n",
       "      <td>0.965278</td>\n",
       "      <td>0.967138</td>\n",
       "      <td>0.967262</td>\n",
       "    </tr>\n",
       "    <tr>\n",
       "      <th>18</th>\n",
       "      <td>0.967882</td>\n",
       "      <td>0.966022</td>\n",
       "      <td>0.968378</td>\n",
       "      <td>0.969494</td>\n",
       "      <td>0.969246</td>\n",
       "      <td>0.968378</td>\n",
       "      <td>0.885417</td>\n",
       "      <td>0.897941</td>\n",
       "      <td>0.931176</td>\n",
       "      <td>0.933532</td>\n",
       "      <td>0.943824</td>\n",
       "      <td>0.953621</td>\n",
       "    </tr>\n",
       "    <tr>\n",
       "      <th>19</th>\n",
       "      <td>0.955357</td>\n",
       "      <td>0.958457</td>\n",
       "      <td>0.953497</td>\n",
       "      <td>0.962798</td>\n",
       "      <td>0.963046</td>\n",
       "      <td>0.966146</td>\n",
       "      <td>0.961806</td>\n",
       "      <td>0.967882</td>\n",
       "      <td>0.967510</td>\n",
       "      <td>0.965526</td>\n",
       "      <td>0.967510</td>\n",
       "      <td>0.967882</td>\n",
       "    </tr>\n",
       "    <tr>\n",
       "      <th>20</th>\n",
       "      <td>0.968874</td>\n",
       "      <td>0.969618</td>\n",
       "      <td>0.968626</td>\n",
       "      <td>0.970238</td>\n",
       "      <td>0.969494</td>\n",
       "      <td>0.969866</td>\n",
       "      <td>0.969494</td>\n",
       "      <td>0.969246</td>\n",
       "      <td>0.969742</td>\n",
       "      <td>0.970238</td>\n",
       "      <td>0.969122</td>\n",
       "      <td>0.970858</td>\n",
       "    </tr>\n",
       "    <tr>\n",
       "      <th>21</th>\n",
       "      <td>4.183334</td>\n",
       "      <td>3.238826</td>\n",
       "      <td>3.568723</td>\n",
       "      <td>3.354039</td>\n",
       "      <td>3.315854</td>\n",
       "      <td>3.519901</td>\n",
       "      <td>3.366342</td>\n",
       "      <td>3.620283</td>\n",
       "      <td>3.065349</td>\n",
       "      <td>3.293366</td>\n",
       "      <td>3.412077</td>\n",
       "      <td>3.523422</td>\n",
       "    </tr>\n",
       "    <tr>\n",
       "      <th>22</th>\n",
       "      <td>3.299603</td>\n",
       "      <td>2.855683</td>\n",
       "      <td>3.692339</td>\n",
       "      <td>3.388355</td>\n",
       "      <td>3.665676</td>\n",
       "      <td>3.405962</td>\n",
       "      <td>3.084059</td>\n",
       "      <td>3.504574</td>\n",
       "      <td>3.497510</td>\n",
       "      <td>3.331923</td>\n",
       "      <td>3.094155</td>\n",
       "      <td>3.116460</td>\n",
       "    </tr>\n",
       "    <tr>\n",
       "      <th>23</th>\n",
       "      <td>3.071030</td>\n",
       "      <td>3.265143</td>\n",
       "      <td>3.342513</td>\n",
       "      <td>3.051358</td>\n",
       "      <td>3.009079</td>\n",
       "      <td>3.257390</td>\n",
       "      <td>5.664133</td>\n",
       "      <td>4.646435</td>\n",
       "      <td>5.107417</td>\n",
       "      <td>7.707603</td>\n",
       "      <td>6.993674</td>\n",
       "      <td>3.691876</td>\n",
       "    </tr>\n",
       "    <tr>\n",
       "      <th>24</th>\n",
       "      <td>2.959163</td>\n",
       "      <td>2.524090</td>\n",
       "      <td>2.446965</td>\n",
       "      <td>2.140967</td>\n",
       "      <td>1.966510</td>\n",
       "      <td>1.881111</td>\n",
       "      <td>1.801477</td>\n",
       "      <td>7.018362</td>\n",
       "      <td>5.526772</td>\n",
       "      <td>3.460365</td>\n",
       "      <td>2.833062</td>\n",
       "      <td>2.488694</td>\n",
       "    </tr>\n",
       "    <tr>\n",
       "      <th>25</th>\n",
       "      <td>2.377917</td>\n",
       "      <td>2.124438</td>\n",
       "      <td>1.963813</td>\n",
       "      <td>1.883839</td>\n",
       "      <td>2.926073</td>\n",
       "      <td>8.608984</td>\n",
       "      <td>4.102002</td>\n",
       "      <td>3.001925</td>\n",
       "      <td>2.601429</td>\n",
       "      <td>2.371632</td>\n",
       "      <td>2.260918</td>\n",
       "      <td>2.086708</td>\n",
       "    </tr>\n",
       "    <tr>\n",
       "      <th>26</th>\n",
       "      <td>2.317250</td>\n",
       "      <td>2.732882</td>\n",
       "      <td>8.579920</td>\n",
       "      <td>4.226517</td>\n",
       "      <td>3.067266</td>\n",
       "      <td>2.645505</td>\n",
       "      <td>2.371610</td>\n",
       "      <td>2.197663</td>\n",
       "      <td>2.152002</td>\n",
       "      <td>1.916804</td>\n",
       "      <td>2.727766</td>\n",
       "      <td>8.613259</td>\n",
       "    </tr>\n",
       "    <tr>\n",
       "      <th>27</th>\n",
       "      <td>4.321375</td>\n",
       "      <td>3.100446</td>\n",
       "      <td>2.644915</td>\n",
       "      <td>2.384127</td>\n",
       "      <td>2.165050</td>\n",
       "      <td>2.068470</td>\n",
       "      <td>2.031341</td>\n",
       "      <td>1.883942</td>\n",
       "      <td>3.877772</td>\n",
       "      <td>7.921360</td>\n",
       "      <td>4.103152</td>\n",
       "      <td>3.015874</td>\n",
       "    </tr>\n",
       "    <tr>\n",
       "      <th>28</th>\n",
       "      <td>2.641980</td>\n",
       "      <td>2.334381</td>\n",
       "      <td>2.151653</td>\n",
       "      <td>2.031562</td>\n",
       "      <td>2.065335</td>\n",
       "      <td>2.966972</td>\n",
       "      <td>9.117367</td>\n",
       "      <td>3.662504</td>\n",
       "      <td>2.861453</td>\n",
       "      <td>2.504652</td>\n",
       "      <td>2.269639</td>\n",
       "      <td>2.282286</td>\n",
       "    </tr>\n",
       "    <tr>\n",
       "      <th>29</th>\n",
       "      <td>2.203613</td>\n",
       "      <td>2.212280</td>\n",
       "      <td>2.958457</td>\n",
       "      <td>8.770312</td>\n",
       "      <td>3.964486</td>\n",
       "      <td>3.176076</td>\n",
       "      <td>2.619353</td>\n",
       "      <td>2.365843</td>\n",
       "      <td>2.188249</td>\n",
       "      <td>2.048114</td>\n",
       "      <td>1.982035</td>\n",
       "      <td>1.980961</td>\n",
       "    </tr>\n",
       "    <tr>\n",
       "      <th>30</th>\n",
       "      <td>8.451397</td>\n",
       "      <td>4.865430</td>\n",
       "      <td>3.504138</td>\n",
       "      <td>2.805361</td>\n",
       "      <td>2.644246</td>\n",
       "      <td>2.258623</td>\n",
       "      <td>2.239957</td>\n",
       "      <td>2.059523</td>\n",
       "      <td>1.901153</td>\n",
       "      <td>3.153963</td>\n",
       "      <td>8.699841</td>\n",
       "      <td>4.063494</td>\n",
       "    </tr>\n",
       "  </tbody>\n",
       "</table>\n",
       "</div>"
      ],
      "text/plain": [
       "        Acc1      Acc2      Acc3      Acc4   ValAcc1   ValAcc2   ValAcc3  \\\n",
       "1   0.792369  0.898024  0.913773  0.923652  0.930638  0.937459  0.942956   \n",
       "2   0.963376  0.966187  0.968378  0.969866  0.971644  0.973049  0.974868   \n",
       "3   0.983176  0.983920  0.984954  0.985904  0.986814  0.988054  0.782655   \n",
       "4   0.955150  0.960317  0.964782  0.968047  0.971313  0.973710  0.976480   \n",
       "5   0.987889  0.988715  0.989583  0.990782  0.992436  0.993262  0.994254   \n",
       "6   0.750744  0.905093  0.925761  0.937417  0.947669  0.955398  0.962219   \n",
       "7   0.982556  0.986235  0.987806  0.989335  0.991526  0.992642  0.994296   \n",
       "8   0.998801  0.998760  0.999297  0.999504  0.999711  0.999711  0.680101   \n",
       "9   0.967221  0.971602  0.977059  0.980985  0.984086  0.986648  0.989625   \n",
       "10  0.997851  0.998636  0.999132  0.999752  0.999835  0.999917  0.999959   \n",
       "11  0.891617  0.908606  0.920263  0.923859  0.930184  0.932664  0.937500   \n",
       "12  0.951513  0.952257  0.953125  0.953249  0.955729  0.957093  0.956845   \n",
       "13  0.961186  0.961806  0.961930  0.960317  0.964038  0.962426  0.886037   \n",
       "14  0.947669  0.950893  0.951389  0.954489  0.954365  0.958705  0.959821   \n",
       "15  0.965278  0.964410  0.966146  0.964162  0.965278  0.967882  0.968006   \n",
       "16  0.883557  0.912202  0.923983  0.935268  0.938368  0.946925  0.949157   \n",
       "17  0.962302  0.962674  0.962922  0.964658  0.964410  0.965898  0.963790   \n",
       "18  0.967882  0.966022  0.968378  0.969494  0.969246  0.968378  0.885417   \n",
       "19  0.955357  0.958457  0.953497  0.962798  0.963046  0.966146  0.961806   \n",
       "20  0.968874  0.969618  0.968626  0.970238  0.969494  0.969866  0.969494   \n",
       "21  4.183334  3.238826  3.568723  3.354039  3.315854  3.519901  3.366342   \n",
       "22  3.299603  2.855683  3.692339  3.388355  3.665676  3.405962  3.084059   \n",
       "23  3.071030  3.265143  3.342513  3.051358  3.009079  3.257390  5.664133   \n",
       "24  2.959163  2.524090  2.446965  2.140967  1.966510  1.881111  1.801477   \n",
       "25  2.377917  2.124438  1.963813  1.883839  2.926073  8.608984  4.102002   \n",
       "26  2.317250  2.732882  8.579920  4.226517  3.067266  2.645505  2.371610   \n",
       "27  4.321375  3.100446  2.644915  2.384127  2.165050  2.068470  2.031341   \n",
       "28  2.641980  2.334381  2.151653  2.031562  2.065335  2.966972  9.117367   \n",
       "29  2.203613  2.212280  2.958457  8.770312  3.964486  3.176076  2.619353   \n",
       "30  8.451397  4.865430  3.504138  2.805361  2.644246  2.258623  2.239957   \n",
       "\n",
       "     ValAcc4    Time 1    Time 2    Time 3    Time 4  \n",
       "1   0.947214  0.950893  0.955729  0.957465  0.960235  \n",
       "2   0.976811  0.978133  0.979084  0.980655  0.982391  \n",
       "3   0.904018  0.920800  0.933986  0.942006  0.949239  \n",
       "4   0.979291  0.981730  0.982060  0.984912  0.986318  \n",
       "5   0.994668  0.995494  0.996321  0.996858  0.997313  \n",
       "6   0.966063  0.970445  0.974909  0.978299  0.981109  \n",
       "7   0.995453  0.996197  0.996734  0.997561  0.998347  \n",
       "8   0.898520  0.926009  0.941510  0.950893  0.960235  \n",
       "9   0.991774  0.994172  0.995164  0.996610  0.997230  \n",
       "10  0.999959  1.000000  1.000000  1.000000  1.000000  \n",
       "11  0.939980  0.942956  0.944072  0.945685  0.947917  \n",
       "12  0.957341  0.959821  0.960069  0.959821  0.959821  \n",
       "13  0.915923  0.925471  0.926463  0.936508  0.942708  \n",
       "14  0.962426  0.962178  0.963170  0.961682  0.965898  \n",
       "15  0.968006  0.968254  0.966394  0.967634  0.968254  \n",
       "16  0.953993  0.954613  0.954861  0.957837  0.957217  \n",
       "17  0.967510  0.963294  0.965278  0.967138  0.967262  \n",
       "18  0.897941  0.931176  0.933532  0.943824  0.953621  \n",
       "19  0.967882  0.967510  0.965526  0.967510  0.967882  \n",
       "20  0.969246  0.969742  0.970238  0.969122  0.970858  \n",
       "21  3.620283  3.065349  3.293366  3.412077  3.523422  \n",
       "22  3.504574  3.497510  3.331923  3.094155  3.116460  \n",
       "23  4.646435  5.107417  7.707603  6.993674  3.691876  \n",
       "24  7.018362  5.526772  3.460365  2.833062  2.488694  \n",
       "25  3.001925  2.601429  2.371632  2.260918  2.086708  \n",
       "26  2.197663  2.152002  1.916804  2.727766  8.613259  \n",
       "27  1.883942  3.877772  7.921360  4.103152  3.015874  \n",
       "28  3.662504  2.861453  2.504652  2.269639  2.282286  \n",
       "29  2.365843  2.188249  2.048114  1.982035  1.980961  \n",
       "30  2.059523  1.901153  3.153963  8.699841  4.063494  "
      ]
     },
     "execution_count": 161,
     "metadata": {},
     "output_type": "execute_result"
    }
   ],
   "source": [
    "frame = ([history.history[\"accuracy\"],history2.history[\"accuracy\"], history3.history[\"accuracy\"], history4.history[\"accuracy\"],history.history[\"val_accuracy\"],history2.history[\"val_accuracy\"],history3.history[\"val_accuracy\"],history4.history[\"val_accuracy\"],times,times2,times3,times4])\n",
    "frame = np.reshape(frame, (30,12))\n",
    "frame_df = pd.DataFrame(frame)\n",
    "frame_df.columns = (\"Acc1\",\"Acc2\",\"Acc3\",\"Acc4\",\"ValAcc1\",\"ValAcc2\",\"ValAcc3\",\"ValAcc4\",\"Time 1\",\"Time 2\",\"Time 3\",\"Time 4\")\n",
    "frame_df.index = (1,2,3,4,5,6,7,8,9,10,11,12,13,14,15,16,17,18,19,20,21,22,23,24,25,26,27,28,29,30)\n",
    "frame_df"
   ]
  },
  {
   "cell_type": "markdown",
   "metadata": {},
   "source": [
    "All models showed dramatic reduction in loss over epochs, however model 3 and 4 had the highest training and validation accuracies across epochs.\n",
    "\n",
    "Model 2 and 3 had identical validation accuracy after 30 epochs, however model 3 took less time to run and had better training accuracy.\n",
    "Model 4 took slighly longer to run than model 3, however had identical training accuracy and was slightly less overfit to training data.\n",
    "\n",
    "Looking at loss over epochs, and accuracy and validation accuracy for the training and validation splits, model 3 and 4 appear to be the best two models.\n",
    "\n",
    "I will compare model 3 and 4 by using the test split from earlier before applying the better model to the test data loaded from the test pickle."
   ]
  },
  {
   "cell_type": "code",
   "execution_count": 111,
   "metadata": {},
   "outputs": [
    {
     "name": "stdout",
     "output_type": "stream",
     "text": [
      "252/252 [==============================] - 0s 2ms/step - loss: 0.1200 - accuracy: 0.9666\n",
      "252/252 [==============================] - 2s 7ms/step - loss: 0.1372 - accuracy: 0.9674\n"
     ]
    },
    {
     "data": {
      "text/plain": [
       "0.9666418433189392"
      ]
     },
     "execution_count": 111,
     "metadata": {},
     "output_type": "execute_result"
    },
    {
     "data": {
      "text/plain": [
       "0.9673858880996704"
      ]
     },
     "execution_count": 111,
     "metadata": {},
     "output_type": "execute_result"
    }
   ],
   "source": [
    "model3_evaluated = model3.evaluate(X_test, y_test)\n",
    "model4_evaluated = model4.evaluate(X_test, y_test)\n",
    "\n",
    "model3_evaluated[1]\n",
    "model4_evaluated[1]"
   ]
  },
  {
   "cell_type": "markdown",
   "metadata": {},
   "source": [
    "Model 4 performs slightly better on the accuracy metric than model 3 when applied to the test data. I will use this model to predict values for the data from the testing pickle."
   ]
  },
  {
   "cell_type": "markdown",
   "metadata": {},
   "source": [
    "## Predict Test Data Labels, Prepare a File for Kaggle"
   ]
  },
  {
   "cell_type": "markdown",
   "metadata": {},
   "source": [
    "Predicting classes of the rescaled test data and generating an excel file with columns class and imageID and exporting it to the directory titled excelpath."
   ]
  },
  {
   "cell_type": "code",
   "execution_count": 85,
   "metadata": {},
   "outputs": [],
   "source": [
    "X_new_test = rescaled_test_data\n",
    "y_test_pred = model4.predict_classes(X_new_test)\n",
    "index_df = test_data.loc[:,test_data.columns == 'imageID'].copy()\n",
    "index_array = np.asarray(index_df)\n",
    "index_array_reshape = index_array.reshape((1, 1680))\n",
    "index_list = index_array.tolist()\n",
    "test_df = pd.DataFrame(y_test_pred, columns=[\"Class\"])\n",
    "test_df[\"imageID\"] = np.asarray(test_data.loc[:,test_data.columns == ('imageID')])\n",
    "Excel_directory = 'Excel'\n",
    "Excel_parent_dir = \"C:\\\\Users\\\\Wyatt\\\\Downloads\\\\Assignment 3\\\\\"\n",
    "Excelpath = os.path.join(Excel_parent_dir, Excel_directory)\n",
    "os.mkdir(Excelpath)"
   ]
  },
  {
   "cell_type": "code",
   "execution_count": 88,
   "metadata": {},
   "outputs": [
    {
     "data": {
      "text/plain": [
       "'C:\\\\Users\\\\Wyatt\\\\Downloads\\\\Assignment 3\\\\Excel'"
      ]
     },
     "execution_count": 88,
     "metadata": {},
     "output_type": "execute_result"
    },
    {
     "data": {
      "text/plain": [
       "'C:\\\\Users\\\\Wyatt\\\\Downloads\\\\Assignment 3\\\\Excel'"
      ]
     },
     "execution_count": 88,
     "metadata": {},
     "output_type": "execute_result"
    }
   ],
   "source": [
    "os.getcwd()\n",
    "os.chdir(\"C:\\\\Users\\\\Wyatt\\\\Downloads\\\\Assignment 3\\\\Excel\")\n",
    "os.getcwd()"
   ]
  },
  {
   "cell_type": "code",
   "execution_count": 98,
   "metadata": {},
   "outputs": [],
   "source": [
    "test_df.to_csv('test_df.csv', index = False)"
   ]
  }
 ],
 "metadata": {
  "kernelspec": {
   "display_name": "Python 3",
   "language": "python",
   "name": "python3"
  },
  "language_info": {
   "codemirror_mode": {
    "name": "ipython",
    "version": 3
   },
   "file_extension": ".py",
   "mimetype": "text/x-python",
   "name": "python",
   "nbconvert_exporter": "python",
   "pygments_lexer": "ipython3",
   "version": "3.8.3"
  }
 },
 "nbformat": 4,
 "nbformat_minor": 4
}
