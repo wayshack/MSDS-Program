{
 "cells": [
  {
   "cell_type": "code",
   "execution_count": 1,
   "metadata": {},
   "outputs": [],
   "source": [
    "from IPython.core.interactiveshell import InteractiveShell\n",
    "InteractiveShell.ast_node_interactivity = \"all\""
   ]
  },
  {
   "cell_type": "markdown",
   "metadata": {},
   "source": [
    "Loading relevant packages for loading data and performing analysis:"
   ]
  },
  {
   "cell_type": "code",
   "execution_count": 2,
   "metadata": {},
   "outputs": [],
   "source": [
    "import os\n",
    "import numpy as np\n",
    "import glob\n",
    "from IPython.utils import io\n",
    "from tensorflow.keras.layers import LeakyReLU\n",
    "from tensorflow.keras.preprocessing.text import Tokenizer\n",
    "from tensorflow.keras.preprocessing.sequence import pad_sequences\n",
    "from tensorflow.keras import Input, Model\n",
    "from tensorflow.keras.layers import Embedding, Bidirectional, LSTM, RepeatVector, Dense\n",
    "from tensorflow.keras.optimizers import Nadam\n",
    "from tensorflow.keras.preprocessing.text import text_to_word_sequence\n",
    "from numpy import save, load\n",
    "from pickleshare import PickleShareDB\n",
    "import matplotlib.pyplot as plt\n",
    "import gc\n",
    "from plot_keras_history import plot_history"
   ]
  },
  {
   "cell_type": "markdown",
   "metadata": {},
   "source": [
    "Checking the current working directory and setting it to the appropriate location:"
   ]
  },
  {
   "cell_type": "code",
   "execution_count": 3,
   "metadata": {},
   "outputs": [
    {
     "data": {
      "text/plain": [
       "'C:\\\\Users\\\\Wyatt\\\\Downloads'"
      ]
     },
     "execution_count": 3,
     "metadata": {},
     "output_type": "execute_result"
    },
    {
     "data": {
      "text/plain": [
       "'C:\\\\Users\\\\Wyatt\\\\Documents\\\\Assignment4'"
      ]
     },
     "execution_count": 3,
     "metadata": {},
     "output_type": "execute_result"
    }
   ],
   "source": [
    "os.getcwd()\n",
    "os.chdir('C:\\\\Users\\\\Wyatt\\\\Documents\\\\Assignment4')\n",
    "os.getcwd()"
   ]
  },
  {
   "cell_type": "markdown",
   "metadata": {},
   "source": [
    "Loading the data from data prep stored in the pickled file:"
   ]
  },
  {
   "cell_type": "code",
   "execution_count": 4,
   "metadata": {},
   "outputs": [
    {
     "data": {
      "text/plain": [
       "['emMat10000X100',\n",
       " 'wordIndx',\n",
       " 'X_Test',\n",
       " 'X_Train',\n",
       " 'X_Val',\n",
       " 'y_Test',\n",
       " 'y_Train',\n",
       " 'y_Val']"
      ]
     },
     "execution_count": 4,
     "metadata": {},
     "output_type": "execute_result"
    }
   ],
   "source": [
    "db=PickleShareDB('movies/assign4.pshare')   # Use your own data, here.\n",
    "db.keys()"
   ]
  },
  {
   "cell_type": "markdown",
   "metadata": {},
   "source": [
    "Assigning values to X from the db.keys() and checking shape. maxLen is set to 80 so we should see a our train,val,split of 20/40/40 here:"
   ]
  },
  {
   "cell_type": "code",
   "execution_count": 5,
   "metadata": {},
   "outputs": [
    {
     "name": "stdout",
     "output_type": "stream",
     "text": [
      "X_Train shape is: (2000, 80)\n",
      "X_Val shape is: (6000, 80)\n",
      "X_Test shape is: (6000, 80)\n"
     ]
    }
   ],
   "source": [
    "X_Train=db['X_Train']\n",
    "X_Val=db['X_Val']\n",
    "X_Test=db['X_Test']\n",
    "print(\"X_Train shape is:\", X_Train.shape)\n",
    "print(\"X_Val shape is:\",X_Val.shape)\n",
    "print(\"X_Test shape is:\",X_Test.shape)"
   ]
  },
  {
   "cell_type": "markdown",
   "metadata": {},
   "source": [
    "Setting hyperparameters:"
   ]
  },
  {
   "cell_type": "code",
   "execution_count": 6,
   "metadata": {},
   "outputs": [],
   "source": [
    "maxLen=80 # max review length, input length\n",
    "maxWords=10000 # max number of words\n",
    "batch_size=32 \n",
    "emDim=100 #output dimension"
   ]
  },
  {
   "cell_type": "code",
   "execution_count": 7,
   "metadata": {},
   "outputs": [],
   "source": [
    "from tensorflow.keras.backend import clear_session\n",
    "clear_session()"
   ]
  },
  {
   "cell_type": "code",
   "execution_count": 28,
   "metadata": {},
   "outputs": [
    {
     "data": {
      "text/plain": [
       "20"
      ]
     },
     "execution_count": 28,
     "metadata": {},
     "output_type": "execute_result"
    }
   ],
   "source": [
    "gc.collect()"
   ]
  },
  {
   "cell_type": "markdown",
   "metadata": {},
   "source": [
    "## Specifying an autoencoder:"
   ]
  },
  {
   "cell_type": "markdown",
   "metadata": {},
   "source": [
    "Developing an encoder/decoder:"
   ]
  },
  {
   "cell_type": "code",
   "execution_count": 65,
   "metadata": {},
   "outputs": [],
   "source": [
    "inputPadded=Input(shape=(maxLen,)) #creating adjusted input based on maxlen hyperparameter\n",
    "embedLayer=Embedding(maxWords,output_dim=emDim,input_length=maxLen) #embedding layer converting indexes into layers, maxword input dimension, emDim output dimension, input length based on maxLen\n",
    "x = embedLayer(inputPadded) # creating embeddings for inputPadded for use in model\n",
    "state_hidden=Bidirectional(LSTM(32))(x) #setting the bidirectional LSTM with 32 units and applying to X\n",
    "state_hidden=LeakyReLU(alpha=.3)(state_hidden) #leakyrelu activation\n",
    "encodeM=Model(inputs=inputPadded,outputs=state_hidden) #creating the encoder model with inputs based on our padded input, and outputs determined by the above LSTM architecture\n",
    "\n",
    "decoderOut=encodeM(inputPadded) #encoder for inputpadded"
   ]
  },
  {
   "cell_type": "code",
   "execution_count": 66,
   "metadata": {},
   "outputs": [],
   "source": [
    "decoded=RepeatVector(maxLen)(decoderOut) #repeat vector to repeat input based on the max review length applied to the encoded variable\n",
    "dec_lstm=Bidirectional(LSTM(32,return_sequences=True)) #Bidirectional LSTM with same number of units as in the encoder, \n",
    "decoded_lstm_output=dec_lstm(decoded) #applying above architecture to decoded object that created an input for the encodings\n",
    "dec_dense=Dense(maxWords,activation='softmax') # dense layer added to model with softmax activation\n",
    "decoder_outputs=dec_dense(decoded_lstm_output) #decoder for encoded inputpadded"
   ]
  },
  {
   "cell_type": "code",
   "execution_count": 67,
   "metadata": {},
   "outputs": [],
   "source": [
    "autoEnc_Model=Model(inputPadded,decoder_outputs) #full autoencoder model with inputPadded as the X and decoder_outputs as the Y"
   ]
  },
  {
   "cell_type": "code",
   "execution_count": 68,
   "metadata": {},
   "outputs": [
    {
     "name": "stdout",
     "output_type": "stream",
     "text": [
      "Model: \"functional_22\"\n",
      "_________________________________________________________________\n",
      "Layer (type)                 Output Shape              Param #   \n",
      "=================================================================\n",
      "input_9 (InputLayer)         [(None, 80)]              0         \n",
      "_________________________________________________________________\n",
      "functional_20 (Functional)   (None, 64)                1034048   \n",
      "_________________________________________________________________\n",
      "repeat_vector_4 (RepeatVecto (None, 80, 64)            0         \n",
      "_________________________________________________________________\n",
      "bidirectional_12 (Bidirectio (None, 80, 128)           66048     \n",
      "_________________________________________________________________\n",
      "dense_4 (Dense)              (None, 80, 10000)         1290000   \n",
      "=================================================================\n",
      "Total params: 2,390,096\n",
      "Trainable params: 2,390,096\n",
      "Non-trainable params: 0\n",
      "_________________________________________________________________\n"
     ]
    }
   ],
   "source": [
    "autoEnc_Model.summary() #displaying a summary of the autoencoder model"
   ]
  },
  {
   "cell_type": "code",
   "execution_count": 69,
   "metadata": {},
   "outputs": [],
   "source": [
    "autoEnc_Model.compile(optimizer=Nadam(lr=0.00005),\n",
    "                      loss='sparse_categorical_crossentropy'\n",
    "                     ) #compliling the model with nadam optimizer, highest probability word output makes sparse categorical crossentropy appropriate, smaller learning rate to avoid overfitting"
   ]
  },
  {
   "cell_type": "code",
   "execution_count": 70,
   "metadata": {},
   "outputs": [],
   "source": [
    "# early stopping used to prevent/minimize overfitting\n",
    "\n",
    "from tensorflow.keras.callbacks import EarlyStopping\n",
    "callback=EarlyStopping(monitor='val_loss',patience=3)"
   ]
  },
  {
   "cell_type": "code",
   "execution_count": 71,
   "metadata": {},
   "outputs": [],
   "source": [
    "# applying the model to the X_Train data with 30 epochs and X_Val as validation data and saving the model to history\n",
    "\n",
    "history=autoEnc_Model.fit(X_Train,np.expand_dims(X_Train,-1),\n",
    "                         batch_size=batch_size,\n",
    "                         epochs=30,\n",
    "                         validation_data=(X_Val,X_Val),\n",
    "                         verbose=0,\n",
    "                         callbacks=[callback])"
   ]
  },
  {
   "cell_type": "code",
   "execution_count": 72,
   "metadata": {},
   "outputs": [
    {
     "data": {
      "image/png": "[encoded data removed]",
      "text/plain": [
       "<Figure size 360x360 with 1 Axes>"
      ]
     },
     "metadata": {
      "needs_background": "light"
     },
     "output_type": "display_data"
    }
   ],
   "source": [
    "plot_history(history.history) #plotting the model loss for train/validate"
   ]
  },
  {
   "cell_type": "code",
   "execution_count": 73,
   "metadata": {},
   "outputs": [
    {
     "data": {
      "text/plain": [
       "(2000, 64)"
      ]
     },
     "execution_count": 73,
     "metadata": {},
     "output_type": "execute_result"
    }
   ],
   "source": [
    "X_TrainEm=encodeM.predict(X_Train) #using the model to create embeddings for X_Train\n",
    "X_TrainEm.shape"
   ]
  },
  {
   "cell_type": "code",
   "execution_count": 74,
   "metadata": {},
   "outputs": [
    {
     "data": {
      "text/plain": [
       "(6000, 64)"
      ]
     },
     "execution_count": 74,
     "metadata": {},
     "output_type": "execute_result"
    }
   ],
   "source": [
    "X_ValEm=encodeM.predict(X_Val) #using the model to create embeddings for X_Val\n",
    "X_ValEm.shape"
   ]
  },
  {
   "cell_type": "code",
   "execution_count": 75,
   "metadata": {},
   "outputs": [
    {
     "data": {
      "text/plain": [
       "(6000, 64)"
      ]
     },
     "execution_count": 75,
     "metadata": {},
     "output_type": "execute_result"
    }
   ],
   "source": [
    "X_TestEm=encodeM.predict(X_Test) #using the model to create embeddings for X_Test\n",
    "X_TestEm.shape #checking shape to confirm it is in the same format and split"
   ]
  },
  {
   "cell_type": "code",
   "execution_count": 76,
   "metadata": {},
   "outputs": [
    {
     "data": {
      "text/plain": [
       "array([-0.1883505 , -0.20110784, -0.21114685,  0.6963701 ,  0.57733625,\n",
       "        0.57845664, -0.17296433,  0.7566511 ,  0.73038644,  0.7117784 ,\n",
       "        0.70593905, -0.2110039 , -0.19654368,  0.683468  , -0.20421082,\n",
       "       -0.19898029, -0.21342508,  0.69585526, -0.21644811,  0.77591705,\n",
       "        0.6867247 ,  0.71341723,  0.8261792 ,  0.7489408 ,  0.64903283,\n",
       "        0.6590154 ,  0.5723735 , -0.22798118,  0.6605057 ,  0.74677813,\n",
       "        0.7081963 ,  0.784872  ,  0.68197423,  0.7854637 ,  0.7352514 ,\n",
       "        0.8458478 , -0.18257909, -0.22341077,  0.6364295 ,  0.8048006 ,\n",
       "       -0.17997609, -0.21726088, -0.22082514, -0.22575255, -0.20343404,\n",
       "       -0.22625902,  0.82916796, -0.22398676,  0.70356494, -0.22551993,\n",
       "        0.80748713,  0.7538489 , -0.22232126,  0.74397075,  0.7194304 ,\n",
       "       -0.2159073 , -0.23521443, -0.23763892, -0.22169413,  0.8313822 ,\n",
       "       -0.18987346,  0.66969585,  0.7954426 ,  0.794398  ], dtype=float32)"
      ]
     },
     "execution_count": 76,
     "metadata": {},
     "output_type": "execute_result"
    }
   ],
   "source": [
    "X_TestEm[0,:]"
   ]
  },
  {
   "cell_type": "markdown",
   "metadata": {},
   "source": [
    "Saving the embeddings for later use:"
   ]
  },
  {
   "cell_type": "code",
   "execution_count": 88,
   "metadata": {},
   "outputs": [],
   "source": [
    "os.chdir('C:\\\\Users\\\\Wyatt\\\\Documents\\\\Assignment4')"
   ]
  },
  {
   "cell_type": "code",
   "execution_count": 89,
   "metadata": {},
   "outputs": [],
   "source": [
    "movieDir = 'movies\\\\'\n",
    "db4b= PickleShareDB(movieDir+'/assign4BB.pshare')\n",
    "db4b.clear()"
   ]
  },
  {
   "cell_type": "code",
   "execution_count": 90,
   "metadata": {},
   "outputs": [],
   "source": [
    "db4b['X_TrainEm']=X_TrainEm\n",
    "db4b['X_ValEm']=X_ValEm\n",
    "db4b['X_TestEm']=X_TestEm"
   ]
  },
  {
   "cell_type": "code",
   "execution_count": 91,
   "metadata": {},
   "outputs": [
    {
     "data": {
      "text/plain": [
       "['X_TestEm', 'X_TrainEm', 'X_ValEm']"
      ]
     },
     "execution_count": 91,
     "metadata": {},
     "output_type": "execute_result"
    }
   ],
   "source": [
    "db4b.keys()"
   ]
  }
 ],
 "metadata": {
  "kernelspec": {
   "display_name": "Python 3",
   "language": "python",
   "name": "python3"
  },
  "language_info": {
   "codemirror_mode": {
    "name": "ipython",
    "version": 3
   },
   "file_extension": ".py",
   "mimetype": "text/x-python",
   "name": "python",
   "nbconvert_exporter": "python",
   "pygments_lexer": "ipython3",
   "version": "3.8.3"
  }
 },
 "nbformat": 4,
 "nbformat_minor": 4
}
